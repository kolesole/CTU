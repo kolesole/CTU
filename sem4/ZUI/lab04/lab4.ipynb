{
 "cells": [
  {
   "cell_type": "markdown",
   "metadata": {
    "id": "-SKf7bI1yv9Q"
   },
   "source": [
    "# Lab 4: A * algoritmus"
   ]
  },
  {
   "cell_type": "markdown",
   "metadata": {
    "id": "_aD13JEOyv9S"
   },
   "source": [
    "## Definitions"
   ]
  },
  {
   "cell_type": "markdown",
   "metadata": {
    "id": "lrGlCV1Oyv9T"
   },
   "source": [
    "In A* algorithm, the choice of the next node $n$ to expand is the one that minimizes the function\n",
    "$$\\begin{align}\n",
    "f(n) = g(n) + h(n)\n",
    "\\end{align}$$\n",
    "\n",
    "**Admissibility**\n",
    "\n",
    "A heuristic is admissible if it never overestimates the cost to the\n",
    "goal (the heuristic is always optimistic)\n",
    "$$\\begin{align}\n",
    "h(n) ≤ h^*(n) \\ \\forall n \\in N.\n",
    "\\end{align}$$\n",
    "\n",
    "**Consistency**\n",
    "\n",
    "Consider two nodes in the search tree, $n$ and $n_0$, such that $n_0$ is reached immediately by making an action in $n$. Denote $c(n, n0)$ the cost for this action. A heuristic is consistent if\n",
    "$$\\begin{align}\n",
    "h(n) ≤ h(n_0) + c(n, n_0)\n",
    "\\end{align}$$\n",
    "holds for all the nodes of the tree."
   ]
  },
  {
   "cell_type": "markdown",
   "metadata": {
    "id": "1YXaUdKsyv9T"
   },
   "source": [
    "## Task 1 - Admissible vs. Consistent heuristic\n",
    "Every admissible heuristic is consistent. True or false?\n",
    "\n"
   ]
  },
  {
   "cell_type": "markdown",
   "metadata": {
    "id": "RYGZ1v8t2mSX"
   },
   "source": [
    "Explain why a consistent heuristic must also be admissible. You may assume that the heuristic value at a goal node is always 0.\n",
    "\n"
   ]
  },
  {
   "cell_type": "markdown",
   "metadata": {
    "id": "I64b2r0tyv9U"
   },
   "source": [
    "## Task 2\n",
    "\n",
    "Consider a following graph, with heuristic $h(N)$ for each node $N$.\n",
    "\n",
    "<img src=\"https://i.ibb.co/5K3tZky/Graph-AStar.png\" style=\"width: 400px;\"/>\n",
    "\n",
    "Is given heuristic admissible and consistent?\n",
    "\n",
    "\n",
    "In which order and with which costs would Uniform-cost search (Dijsktra's algorithm) process nodes if it started in the initial state?\n",
    "\n",
    "\n",
    "Use A* algorithm with heuristic $h$ to find a path from initial node $S$ to the goal node $G$. How many nodes were popped from the queue and how many expansions were done?\n",
    "\n",
    "\n",
    "Is found path optimal?\n",
    "\n"
   ]
  },
  {
   "cell_type": "markdown",
   "metadata": {
    "id": "1wx8TWMx7bGE"
   },
   "source": [
    "## Task 3\n",
    "\n",
    "True or False?\n",
    "\n",
    "In the game Snake:\n",
    "1.   Euclidian distanse is an admissable heuristic for path-planning\n",
    "2.   Manhattan distanse is an admissable heuristic for path-planning\n",
    "3.   Manhattan distance is an admissable heuristic for the smallest number of moves that the snake has to make from point A(start) to B(apple) (a move is changing the direction of the snake)\n",
    "\n",
    "\n",
    "True or False?\n",
    "\n",
    "Depth-first search always expands at least as many nodes as A∗ search with an admissible heuristic.\n",
    "\n"
   ]
  },
  {
   "cell_type": "markdown",
   "metadata": {
    "id": "1XxQA3Yn8ILt"
   },
   "source": [
    "![image.png](data:image/png;base64,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)"
   ]
  },
  {
   "cell_type": "markdown",
   "metadata": {
    "id": "2JnrYf1ome0h"
   },
   "source": [
    "## Task 4\n",
    "\n",
    "Consider flooded area represented by rectangular grid $ X \\times Y$ and each cell is represented as $ b_{xy} $. In the area, there are people that need to be rescued and transported to a safe cell (cell $ b_{\\bullet \\bullet} $)), which is outside of the $ X \\times Y$ grid. The safe cell is accessible only from cell $ b_{00} $\n",
    "\n",
    "Each cell $ b_{xy} $ can contain $0$ to $n$ people.\n",
    "$n_{xy}$ denotes amount of people in cell $b_{xy}$.\n",
    "Rescuers have a single helicopter that can carry $m$ people.\n",
    "The starting point for the helicopter is $ b_{\\bullet \\bullet} $, and we assume that it has infinite fuel. In a single move, the helicopter can move from the current cell to any adjacent cell in 8 directions (up, down, left, right, and 4 diagonal directions) or load/offload 1 person.\n",
    "\n",
    "The goal is to find the shortest sequence of actions that transports all people to safety (all people are transported to $b_{\\bullet \\bullet} $, and the helicopter is empty).\n",
    "\n",
    "<img src=\"https://i.ibb.co/wQnMcBR/helicopter.png\" style=\"width: 400px;\"/>"
   ]
  },
  {
   "cell_type": "markdown",
   "metadata": {
    "id": "lIFUMp1zyv9W"
   },
   "source": [
    "Decide if any of following heuristics is admissible:\n",
    "\n",
    "$h = \\sum_{i \\in X, j \\in Y} n_{ij}$\n",
    "\n",
    "\n",
    "$h = \\sum_{i \\in X, j \\in Y} \\frac{n_{ij}}{m}$\n",
    "\n",
    "\n",
    "$h = \\sum_{i \\in X, j \\in Y} sgn(n_{ij})\\cdot(i+j)$\n",
    "\n",
    "\n",
    "$h = \\sum_{i \\in X, j \\in Y} n_{ij} \\cdot(i+j)$\n",
    "\n",
    "\n",
    "$h = \\sum_{i \\in X, j \\in Y} n_{ij} \\cdot(\\max\\{i,j\\})$\n",
    "\n",
    "\n",
    "$h = \\sum_{i \\in X, j \\in Y} \\left[sgn(n_{ij})\\cdot(\\max\\{i,j\\}) + n_{ij}\\right]$\n",
    "\n"
   ]
  },
  {
   "cell_type": "markdown",
   "metadata": {
    "id": "WhDwYiSwyv9X"
   },
   "source": [
    "## Example - N Puzzle"
   ]
  },
  {
   "cell_type": "markdown",
   "metadata": {
    "id": "pLkd_rZ1yv9X"
   },
   "source": [
    "- Puzzle with N×N numbered tiles.\n",
    "- Tiles are in random order with one tile missing (in our case, the missing tile is represented by 0).\n",
    "- The goal is to place tiles in order (And zero in bottom right corner).\n",
    "- Allowed actions are sliding the tiles to empty space.\n",
    "\n",
    "\n",
    "Example of 4x4 Puzzle:\n",
    "\n",
    "<img src=\"https://upload.wikimedia.org/wikipedia/commons/f/ff/15-puzzle_magical.svg\" width=\"200\" height=\"200\"/>\n",
    "\n",
    "\n",
    "\n",
    "Implementation follows template from lecture 1, with several modifications:\n",
    "\n",
    "- State class\n",
    "    - Parent state and corresponding action are included in State object as history attribute.\n",
    "    - State has cost attribute, which corresponds the number of steps needed to reach the state from initial state.\n",
    "    - State has priority attribute that is used for priority queue.\n",
    "    - State objects can be compared based on their priorty using \"<\" operator.\n",
    "\n",
    "- Solver function\n",
    "    - Uses priority queue instead of list."
   ]
  },
  {
   "cell_type": "code",
   "execution_count": null,
   "metadata": {
    "id": "yYPjQibkme0j"
   },
   "outputs": [],
   "source": [
    "import numpy as np\n",
    "from copy import deepcopy\n",
    "from typing import List, Tuple, Dict, Callable\n",
    "from queue import PriorityQueue\n",
    "\n",
    "Action = str\n",
    "\n",
    "class State:\n",
    "    def __init__(self, board: np.array, cost=0, priority=None, history=(None, None)) -> None:\n",
    "        self.board = board\n",
    "        self.cost = cost\n",
    "        self.priority = priority\n",
    "        self.history = history\n",
    "        self.N = board.shape[0]\n",
    "        self.solved_board = np.roll(np.arange(self.N*self.N), -1).reshape(self.N, self.N)\n",
    "\n",
    "    def actions(self) -> List[Action]:\n",
    "        \"\"\"\n",
    "        :return: list of actions available at the current state.\n",
    "        \"\"\"\n",
    "        return [\n",
    "            \"u\",  # Swap up\n",
    "            \"d\",  # Swap down\n",
    "            \"l\",  # Swap left\n",
    "            \"r\",  # Swap right\n",
    "        ]\n",
    "\n",
    "    def apply(self, action: Action) -> None:\n",
    "        \"\"\"\n",
    "        Change current state by applying an action.\n",
    "        \"\"\"\n",
    "\n",
    "        assert action in self.actions()\n",
    "        i, j = self.blank_position()\n",
    "\n",
    "        # Swaps positions if possible.\n",
    "        b = self.board\n",
    "        if action == \"u\" and i-1 >= 0:\n",
    "            b[i][j], b[i - 1][j] = b[i - 1][j], b[i][j]\n",
    "        elif action == \"d\" and i+1 < self.N:\n",
    "            b[i][j], b[i + 1][j] = b[i + 1][j], b[i][j]\n",
    "        elif action == \"l\" and j-1 >= 0:\n",
    "            b[i][j], b[i][j - 1] = b[i][j - 1], b[i][j]\n",
    "        elif action == \"r\" and j+1 < self.N:\n",
    "            b[i][j], b[i][j + 1] = b[i][j + 1], b[i][j]\n",
    "\n",
    "    def copy(self) -> \"State\":\n",
    "        \"\"\"\n",
    "        Make a copy of the current state.\n",
    "        \"\"\"\n",
    "        return State(deepcopy(self.board), self.cost, self.priority, self.history)\n",
    "\n",
    "    def shuffle(self, steps=1000) -> None:\n",
    "        \"\"\"\n",
    "        Inplace shuffle of current state by applying random actions.\n",
    "        \"\"\"\n",
    "        for i in range(steps):\n",
    "            action = np.random.choice(self.actions())\n",
    "            self.apply(action)\n",
    "\n",
    "    def blank_position(self) -> Tuple[int, int]:\n",
    "        # Find blank position - it is denoted as 0 digit.\n",
    "        for i in range(self.N):\n",
    "            for j in range(self.N):\n",
    "                if self.board[i][j] == 0:\n",
    "                    return i, j\n",
    "        raise RuntimeError(\"Invalid board: No blank position found\")\n",
    "\n",
    "    def is_goal(self) -> bool: # True if boar is solved.\n",
    "        return (self.board == self.solved_board).all()\n",
    "\n",
    "    def __lt__(self, other) -> bool: # Overrides \"<\" operator, needed in PriorityQueue.\n",
    "        return self.priority < other.priority\n",
    "\n",
    "    def __str__(self) -> str:\n",
    "        return str(self.board)\n",
    "\n",
    "    def __eq__(self, other) -> bool:\n",
    "        return str(self) == str(other)\n",
    "\n",
    "    def __hash__(self) -> int:\n",
    "        return hash(str(self))\n",
    "\n",
    "    def __repr__(self) -> str:\n",
    "        return str(self)\n",
    "\n",
    "\n",
    "def reconstruct_path(closed: Dict[State, Tuple[Action, State]],\n",
    "                     init_state: State,\n",
    "                     last_state: State) -> List[Action]:\n",
    "    action, prev_state = closed[last_state]\n",
    "    path = [action]\n",
    "    while prev_state != init_state:\n",
    "        action, prev_state = closed[prev_state]\n",
    "        path.append(action)\n",
    "    return list(reversed(path))\n",
    "\n",
    "\n",
    "def solver(init_state: State, evaluate: Callable) -> Tuple[List[Action], int]:\n",
    "    opened = PriorityQueue()\n",
    "    closed = dict()\n",
    "    state = init_state.copy()\n",
    "    state.priority = 0\n",
    "    opened.put(state)\n",
    "\n",
    "    while not opened.empty():\n",
    "        state = opened.get()\n",
    "        action, prev_state = state.history\n",
    "        if state.is_goal():\n",
    "            closed[state] = (action, prev_state)\n",
    "            return reconstruct_path(closed, init_state, last_state=state), len(closed)\n",
    "\n",
    "        if state in closed:  # State already visited ...\n",
    "            continue\n",
    "        else:\n",
    "            closed[state] = action, prev_state\n",
    "\n",
    "        for action in state.actions():\n",
    "            next_state = state.copy()\n",
    "            next_state.apply(action)\n",
    "            next_state.history = (action, state)\n",
    "            next_state.cost += 1\n",
    "            next_state.priority = evaluate(next_state)\n",
    "            opened.put(next_state)\n",
    "\n",
    "    return [], len(closed)"
   ]
  },
  {
   "cell_type": "markdown",
   "metadata": {
    "id": "Cy-WpHmRme0k"
   },
   "source": [
    "## Task 5 - N Puzzle heuristic\n",
    "\n",
    "- What is suitable heuristic for N Puzzle?\n",
    "\n",
    "\n",
    "- Would the heuristic still be admissible if we multiply it by $w > 1$?\n",
    "\n",
    "\n",
    "- Is it reasonable to use such a weighting $w$ of the heuristic?\n",
    "\n",
    "\n",
    "- Implement the heuristic.\n"
   ]
  },
  {
   "cell_type": "code",
   "execution_count": null,
   "metadata": {
    "id": "yWM5xtvGme0l"
   },
   "outputs": [],
   "source": [
    "class NPuzzleHeuristic():\n",
    "    # TODO: Implement this method.\n",
    "    def heuristic(self, state) -> int:\n",
    "\n",
    "        # raise NotImplementedError\n",
    "\n",
    "\n",
    "class BFS():\n",
    "    def __call__(self, state) -> int:\n",
    "        return state.cost\n",
    "\n",
    "class Greedy(NPuzzleHeuristic):\n",
    "    def __call__(self, state) -> int:\n",
    "        return self.heuristic(state)\n",
    "\n",
    "class AStar(NPuzzleHeuristic):\n",
    "    def __init__(self, weight=1.0) -> None:\n",
    "        self.weight = weight\n",
    "\n",
    "    def __call__(self, state) -> int:\n",
    "        return state.cost + self.weight * self.heuristic(state)"
   ]
  },
  {
   "cell_type": "markdown",
   "metadata": {
    "id": "MpGpVx7eme0l"
   },
   "source": [
    "## Examples\n",
    "- Compare the performance of uninformed search, greedy best first, A* and its weighted variants."
   ]
  },
  {
   "cell_type": "code",
   "execution_count": null,
   "metadata": {
    "id": "7OF0J1Aqme0m",
    "outputId": "b0283b23-88ec-401d-f26f-cadc61db0af9"
   },
   "outputs": [],
   "source": [
    "# Create new initial state (for N>3 BFS is not feasible).\n",
    "N = 3\n",
    "state = State(np.roll(np.arange(N*N), -1).reshape(N,N))\n",
    "state.shuffle(1000)\n",
    "\n",
    "# Or, use this one\n",
    "state = State(np.array([[8, 4, 6],[1, 3, 7], [5, 2, 0]]))\n",
    "\n",
    "display(state)"
   ]
  },
  {
   "cell_type": "code",
   "execution_count": null,
   "metadata": {
    "id": "2eN1rMoame0n",
    "outputId": "da53f031-5f39-4625-cce5-caacd7097be9"
   },
   "outputs": [],
   "source": [
    "path, expanded = solver(state, BFS())\n",
    "print(f\"Uninformed search\")\n",
    "print(f\"Solution steps: \\t{len(path)}\")\n",
    "print(f\"Nodes expanded:    \\t{expanded}\")"
   ]
  },
  {
   "cell_type": "code",
   "execution_count": null,
   "metadata": {
    "id": "r0Oc6AdUme0n",
    "outputId": "17d4e6b0-4573-4e0e-964d-39adf478400d"
   },
   "outputs": [],
   "source": [
    "path, expanded = solver(state, Greedy())\n",
    "print(f\"Greedy best first\")\n",
    "print(f\"Solution steps: \\t{len(path)}\")\n",
    "print(f\"Nodes expanded:    \\t{expanded}\")"
   ]
  },
  {
   "cell_type": "code",
   "execution_count": null,
   "metadata": {
    "id": "1MJ-kpasme0n",
    "outputId": "af2bc179-8f90-4c02-ee7a-2bdf2f558f16"
   },
   "outputs": [],
   "source": [
    "path, expanded = solver(state.copy(), AStar())\n",
    "print(f\"A*\")\n",
    "print(f\"Solution steps: \\t{len(path)}\")\n",
    "print(f\"Nodes expanded:    \\t{expanded}\")"
   ]
  },
  {
   "cell_type": "code",
   "execution_count": null,
   "metadata": {
    "id": "3jxcb6qcme0n",
    "outputId": "ffb28497-bb22-409d-8ec1-cc3bdcb2f7ff"
   },
   "outputs": [],
   "source": [
    "path, expanded = solver(state.copy(), AStar(weight=2.0))\n",
    "print(f\"Weighted A* (2x Admissible heuristic)\")\n",
    "print(f\"Solution steps: \\t{len(path)}\")\n",
    "print(f\"Nodes expanded:    \\t{expanded}\")"
   ]
  },
  {
   "cell_type": "code",
   "execution_count": null,
   "metadata": {
    "id": "mJw4xR6Wme0o",
    "outputId": "0ffbce54-ad6a-48b0-f692-0a3800889200"
   },
   "outputs": [],
   "source": [
    "path, expanded = solver(state.copy(), AStar(weight=5.0))\n",
    "print(f\"Weighted A* (5x Admissible heuristic)\")\n",
    "print(f\"Solution steps: \\t{len(path)}\")\n",
    "print(f\"Nodes expanded:    \\t{expanded}\")"
   ]
  },
  {
   "cell_type": "code",
   "execution_count": null,
   "metadata": {
    "id": "3jyK1qk4me0o"
   },
   "outputs": [],
   "source": []
  }
 ],
 "metadata": {
  "colab": {
   "provenance": []
  },
  "kernelspec": {
   "display_name": "VENV_DIR",
   "language": "python",
   "name": "python3"
  },
  "language_info": {
   "codemirror_mode": {
    "name": "ipython",
    "version": 3
   },
   "file_extension": ".py",
   "mimetype": "text/x-python",
   "name": "python",
   "nbconvert_exporter": "python",
   "pygments_lexer": "ipython3",
   "version": "3.9.6"
  },
  "vscode": {
   "interpreter": {
    "hash": "28faef28e7f0745a706c61265858622dc1f2f4e731abb5496d55c478fc6bd5d9"
   }
  }
 },
 "nbformat": 4,
 "nbformat_minor": 0
}
