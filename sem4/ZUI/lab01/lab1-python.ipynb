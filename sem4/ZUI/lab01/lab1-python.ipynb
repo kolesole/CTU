{
 "cells": [
  {
   "cell_type": "markdown",
   "id": "03ebafd8",
   "metadata": {
    "pycharm": {
     "name": "#%% md\n"
    }
   },
   "source": [
    "## Python: some useful things to know\n",
    "\n",
    "You are strongly encouraged to learn Python on your own if you are not familiar with the language -- we have only limited time to spend on the language basics. \n",
    "\n",
    "We use Python >= 3.8, some of the features might not be available in prior versions (definitely not python 2)\n",
    "\n",
    "There is a number of materials to learn Python online, for example:\n",
    "\n",
    "- https://www.programiz.com/python-programming/tutorial -- a short tutorial\n",
    "- https://docs.python.org/3/tutorial/index.html#tutorial-index -- official tutorial\n",
    "- https://docs.python.org/3/library/index.html#library-index -- more extensive library documentation.\n",
    "\n",
    "Following here are some useful constructs that you will use a lot in the course.\n"
   ]
  },
  {
   "cell_type": "markdown",
   "id": "ac78795a",
   "metadata": {
    "pycharm": {
     "name": "#%% md\n"
    }
   },
   "source": [
    "Try to predict what is the output of each command before you run it!"
   ]
  },
  {
   "cell_type": "markdown",
   "id": "da29acd8",
   "metadata": {
    "pycharm": {
     "name": "#%% md\n"
    }
   },
   "source": [
    "### Lists"
   ]
  },
  {
   "cell_type": "code",
   "id": "c299dc82",
   "metadata": {
    "pycharm": {
     "name": "#%%\n"
    },
    "ExecuteTime": {
     "end_time": "2025-02-11T15:39:09.577601Z",
     "start_time": "2025-02-11T15:39:09.575293Z"
    }
   },
   "source": [
    "my_list = [0, 1, 2, 3, 4, 5]\n",
    "print(my_list[0])   # Index from the start of array"
   ],
   "outputs": [
    {
     "name": "stdout",
     "output_type": "stream",
     "text": [
      "0\n"
     ]
    }
   ],
   "execution_count": 2
  },
  {
   "cell_type": "code",
   "id": "fb7036bb",
   "metadata": {
    "pycharm": {
     "name": "#%%\n"
    },
    "ExecuteTime": {
     "end_time": "2025-02-11T15:39:09.672731Z",
     "start_time": "2025-02-11T15:39:09.670543Z"
    }
   },
   "source": [
    "print(my_list[-1])  # Index from the end of array"
   ],
   "outputs": [
    {
     "name": "stdout",
     "output_type": "stream",
     "text": [
      "5\n"
     ]
    }
   ],
   "execution_count": 3
  },
  {
   "cell_type": "code",
   "id": "f2dab1a4",
   "metadata": {
    "pycharm": {
     "name": "#%%\n"
    },
    "ExecuteTime": {
     "end_time": "2025-02-11T15:39:09.723454Z",
     "start_time": "2025-02-11T15:39:09.720793Z"
    }
   },
   "source": [
    "print(my_list[3:])   # Slice"
   ],
   "outputs": [
    {
     "name": "stdout",
     "output_type": "stream",
     "text": [
      "[3, 4, 5]\n"
     ]
    }
   ],
   "execution_count": 4
  },
  {
   "cell_type": "code",
   "id": "c5be75c7",
   "metadata": {
    "pycharm": {
     "name": "#%%\n"
    },
    "ExecuteTime": {
     "end_time": "2025-02-11T15:39:09.772599Z",
     "start_time": "2025-02-11T15:39:09.769978Z"
    }
   },
   "source": [
    "print(my_list[:3])   # Slice"
   ],
   "outputs": [
    {
     "name": "stdout",
     "output_type": "stream",
     "text": [
      "[0, 1, 2]\n"
     ]
    }
   ],
   "execution_count": 5
  },
  {
   "cell_type": "code",
   "id": "98041e05",
   "metadata": {
    "pycharm": {
     "name": "#%%\n"
    },
    "ExecuteTime": {
     "end_time": "2025-02-11T15:39:09.821666Z",
     "start_time": "2025-02-11T15:39:09.819142Z"
    }
   },
   "source": [
    "print(my_list[::2])  # Slice"
   ],
   "outputs": [
    {
     "name": "stdout",
     "output_type": "stream",
     "text": [
      "[0, 2, 4]\n"
     ]
    }
   ],
   "execution_count": 6
  },
  {
   "cell_type": "code",
   "id": "c8ff723f",
   "metadata": {
    "pycharm": {
     "name": "#%%\n"
    },
    "ExecuteTime": {
     "end_time": "2025-02-11T15:39:09.871180Z",
     "start_time": "2025-02-11T15:39:09.868872Z"
    }
   },
   "source": [
    "my_list.append(6)\n",
    "print(my_list)"
   ],
   "outputs": [
    {
     "name": "stdout",
     "output_type": "stream",
     "text": [
      "[0, 1, 2, 3, 4, 5, 6]\n"
     ]
    }
   ],
   "execution_count": 7
  },
  {
   "cell_type": "code",
   "id": "63c13b86",
   "metadata": {
    "pycharm": {
     "name": "#%%\n"
    },
    "ExecuteTime": {
     "end_time": "2025-02-11T15:39:09.920406Z",
     "start_time": "2025-02-11T15:39:09.917944Z"
    }
   },
   "source": [
    "another_list = [7, 8, 9]\n",
    "concat = my_list + another_list\n",
    "print(concat)"
   ],
   "outputs": [
    {
     "name": "stdout",
     "output_type": "stream",
     "text": [
      "[0, 1, 2, 3, 4, 5, 6, 7, 8, 9]\n"
     ]
    }
   ],
   "execution_count": 8
  },
  {
   "cell_type": "code",
   "id": "5ba57617",
   "metadata": {
    "pycharm": {
     "name": "#%%\n"
    },
    "ExecuteTime": {
     "end_time": "2025-02-11T15:39:09.969789Z",
     "start_time": "2025-02-11T15:39:09.967610Z"
    }
   },
   "source": [
    "print(concat.pop())\n",
    "print(concat)"
   ],
   "outputs": [
    {
     "name": "stdout",
     "output_type": "stream",
     "text": [
      "9\n",
      "[0, 1, 2, 3, 4, 5, 6, 7, 8]\n"
     ]
    }
   ],
   "execution_count": 9
  },
  {
   "cell_type": "code",
   "id": "066cb4ee",
   "metadata": {
    "pycharm": {
     "name": "#%%\n"
    },
    "ExecuteTime": {
     "end_time": "2025-02-11T15:39:10.018563Z",
     "start_time": "2025-02-11T15:39:10.016158Z"
    }
   },
   "source": [
    "print(len(concat))"
   ],
   "outputs": [
    {
     "name": "stdout",
     "output_type": "stream",
     "text": [
      "9\n"
     ]
    }
   ],
   "execution_count": 10
  },
  {
   "cell_type": "code",
   "id": "0b0008a5",
   "metadata": {
    "pycharm": {
     "name": "#%%\n"
    },
    "ExecuteTime": {
     "end_time": "2025-02-11T15:39:10.066793Z",
     "start_time": "2025-02-11T15:39:10.064379Z"
    }
   },
   "source": [
    "print(min(concat))\n",
    "print(max(concat))"
   ],
   "outputs": [
    {
     "name": "stdout",
     "output_type": "stream",
     "text": [
      "0\n",
      "8\n"
     ]
    }
   ],
   "execution_count": 11
  },
  {
   "cell_type": "code",
   "id": "359fa103",
   "metadata": {
    "pycharm": {
     "name": "#%%\n"
    },
    "ExecuteTime": {
     "end_time": "2025-02-11T15:39:10.116046Z",
     "start_time": "2025-02-11T15:39:10.113655Z"
    }
   },
   "source": [
    "print(2 in concat)\n",
    "print(10 in concat)"
   ],
   "outputs": [
    {
     "name": "stdout",
     "output_type": "stream",
     "text": [
      "True\n",
      "False\n"
     ]
    }
   ],
   "execution_count": 12
  },
  {
   "cell_type": "code",
   "id": "2a838b2d",
   "metadata": {
    "pycharm": {
     "name": "#%%\n"
    },
    "ExecuteTime": {
     "end_time": "2025-02-11T15:39:10.164918Z",
     "start_time": "2025-02-11T15:39:10.162648Z"
    }
   },
   "source": [
    "a = 10\n",
    "b = a\n",
    "b = 20\n",
    "print(a)\n",
    "print(b)"
   ],
   "outputs": [
    {
     "name": "stdout",
     "output_type": "stream",
     "text": [
      "10\n",
      "20\n"
     ]
    }
   ],
   "execution_count": 13
  },
  {
   "cell_type": "code",
   "id": "8baa7513",
   "metadata": {
    "pycharm": {
     "name": "#%%\n"
    },
    "ExecuteTime": {
     "end_time": "2025-02-11T15:39:10.214089Z",
     "start_time": "2025-02-11T15:39:10.211768Z"
    }
   },
   "source": [
    "xs = [1, 2, 3]\n",
    "ys = xs\n",
    "ys[0] = 5\n",
    "print(xs)\n",
    "print(ys)\n",
    "\n"
   ],
   "outputs": [
    {
     "name": "stdout",
     "output_type": "stream",
     "text": [
      "[5, 2, 3]\n",
      "[5, 2, 3]\n"
     ]
    }
   ],
   "execution_count": 14
  },
  {
   "cell_type": "code",
   "id": "20ff6045",
   "metadata": {
    "pycharm": {
     "name": "#%%\n"
    },
    "ExecuteTime": {
     "end_time": "2025-02-11T15:39:10.264516Z",
     "start_time": "2025-02-11T15:39:10.262156Z"
    }
   },
   "source": [
    "def append_new(my_list=[]):\n",
    "    my_list.append(1)\n",
    "    return my_list\n",
    "\n",
    "\n",
    "print(append_new())\n",
    "print(append_new())\n"
   ],
   "outputs": [
    {
     "name": "stdout",
     "output_type": "stream",
     "text": [
      "[1]\n",
      "[1, 1]\n"
     ]
    }
   ],
   "execution_count": 15
  },
  {
   "cell_type": "markdown",
   "id": "2ec58019",
   "metadata": {
    "pycharm": {
     "name": "#%% md\n"
    }
   },
   "source": [
    "### Tuples"
   ]
  },
  {
   "cell_type": "code",
   "id": "e51958e4",
   "metadata": {
    "pycharm": {
     "name": "#%%\n"
    },
    "ExecuteTime": {
     "end_time": "2025-02-11T15:39:10.315033Z",
     "start_time": "2025-02-11T15:39:10.312644Z"
    }
   },
   "source": [
    "xs = (\"a\", 1, True)\n",
    "print(xs[2])"
   ],
   "outputs": [
    {
     "name": "stdout",
     "output_type": "stream",
     "text": [
      "True\n"
     ]
    }
   ],
   "execution_count": 16
  },
  {
   "cell_type": "code",
   "id": "51f028a8",
   "metadata": {
    "pycharm": {
     "name": "#%%\n"
    },
    "ExecuteTime": {
     "end_time": "2025-02-11T15:39:10.363788Z",
     "start_time": "2025-02-11T15:39:10.361576Z"
    }
   },
   "source": [
    "x,y,z = xs\n",
    "print(y)"
   ],
   "outputs": [
    {
     "name": "stdout",
     "output_type": "stream",
     "text": [
      "1\n"
     ]
    }
   ],
   "execution_count": 17
  },
  {
   "cell_type": "code",
   "id": "c662a854",
   "metadata": {
    "pycharm": {
     "name": "#%%\n"
    },
    "ExecuteTime": {
     "end_time": "2025-02-11T15:39:10.412965Z",
     "start_time": "2025-02-11T15:39:10.410677Z"
    }
   },
   "source": [
    "a, b = 1, 2\n",
    "a, b = b, a\n",
    "print(a, b)"
   ],
   "outputs": [
    {
     "name": "stdout",
     "output_type": "stream",
     "text": [
      "2 1\n"
     ]
    }
   ],
   "execution_count": 18
  },
  {
   "cell_type": "markdown",
   "id": "3630df93",
   "metadata": {
    "pycharm": {
     "name": "#%% md\n"
    }
   },
   "source": [
    "### Dictionaries"
   ]
  },
  {
   "cell_type": "code",
   "id": "6b621c23",
   "metadata": {
    "pycharm": {
     "name": "#%%\n"
    },
    "ExecuteTime": {
     "end_time": "2025-02-11T15:39:10.463400Z",
     "start_time": "2025-02-11T15:39:10.460406Z"
    }
   },
   "source": [
    "my_dict = dict(a=0, b=1, c=2)\n",
    "# OR\n",
    "# my_dict = {\"a\":0, \"b\":1, \"c\":2}\n",
    "print(my_dict[\"a\"])\n",
    "my_dict[\"d\"] = 3"
   ],
   "outputs": [
    {
     "name": "stdout",
     "output_type": "stream",
     "text": [
      "0\n"
     ]
    }
   ],
   "execution_count": 19
  },
  {
   "cell_type": "code",
   "id": "a8a07794",
   "metadata": {
    "pycharm": {
     "name": "#%%\n"
    },
    "ExecuteTime": {
     "end_time": "2025-02-11T15:39:10.511886Z",
     "start_time": "2025-02-11T15:39:10.509679Z"
    }
   },
   "source": [
    "another_dict = dict(e=4)\n",
    "my_dict.update(another_dict)\n",
    "print(my_dict)"
   ],
   "outputs": [
    {
     "name": "stdout",
     "output_type": "stream",
     "text": [
      "{'a': 0, 'b': 1, 'c': 2, 'd': 3, 'e': 4}\n"
     ]
    }
   ],
   "execution_count": 20
  },
  {
   "cell_type": "code",
   "id": "dcce13ce",
   "metadata": {
    "pycharm": {
     "name": "#%%\n"
    },
    "ExecuteTime": {
     "end_time": "2025-02-11T15:39:10.560438Z",
     "start_time": "2025-02-11T15:39:10.558069Z"
    }
   },
   "source": [
    "print(\"e\" in my_dict)\n",
    "print(\"f\" in my_dict)\n",
    "print(0 in my_dict)"
   ],
   "outputs": [
    {
     "name": "stdout",
     "output_type": "stream",
     "text": [
      "True\n",
      "False\n",
      "False\n"
     ]
    }
   ],
   "execution_count": 21
  },
  {
   "cell_type": "markdown",
   "id": "07cdf700",
   "metadata": {
    "pycharm": {
     "name": "#%% md\n"
    }
   },
   "source": [
    "### Sets"
   ]
  },
  {
   "cell_type": "code",
   "id": "f68f2956",
   "metadata": {
    "pycharm": {
     "name": "#%%\n"
    },
    "ExecuteTime": {
     "end_time": "2025-02-11T15:39:10.609694Z",
     "start_time": "2025-02-11T15:39:10.607568Z"
    }
   },
   "source": [
    "my_set = set([1, 2, 3])\n",
    "# OR\n",
    "# my_set = {1, 2, 3}\n",
    "print(len(my_set))"
   ],
   "outputs": [
    {
     "name": "stdout",
     "output_type": "stream",
     "text": [
      "3\n"
     ]
    }
   ],
   "execution_count": 22
  },
  {
   "cell_type": "code",
   "id": "9b6de0d0",
   "metadata": {
    "pycharm": {
     "name": "#%%\n"
    },
    "ExecuteTime": {
     "end_time": "2025-02-11T15:39:10.658509Z",
     "start_time": "2025-02-11T15:39:10.656257Z"
    }
   },
   "source": [
    "print({1,2,3}.union({3,4,5}))"
   ],
   "outputs": [
    {
     "name": "stdout",
     "output_type": "stream",
     "text": [
      "{1, 2, 3, 4, 5}\n"
     ]
    }
   ],
   "execution_count": 23
  },
  {
   "cell_type": "code",
   "id": "feeb492f",
   "metadata": {
    "pycharm": {
     "name": "#%%\n"
    },
    "ExecuteTime": {
     "end_time": "2025-02-11T15:39:10.708563Z",
     "start_time": "2025-02-11T15:39:10.705777Z"
    }
   },
   "source": [
    "print({1,2,3}.intersection({3,4,5}))"
   ],
   "outputs": [
    {
     "name": "stdout",
     "output_type": "stream",
     "text": [
      "{3}\n"
     ]
    }
   ],
   "execution_count": 24
  },
  {
   "cell_type": "markdown",
   "id": "5c7c171a",
   "metadata": {
    "pycharm": {
     "name": "#%% md\n"
    }
   },
   "source": [
    "### Loops\n",
    "\n",
    "Easy way to construct arrays/sets/dictionaries based on filtering etc."
   ]
  },
  {
   "cell_type": "code",
   "id": "97318eb1",
   "metadata": {
    "pycharm": {
     "name": "#%%\n"
    },
    "ExecuteTime": {
     "end_time": "2025-02-11T15:39:10.758080Z",
     "start_time": "2025-02-11T15:39:10.755331Z"
    }
   },
   "source": [
    "for x in range(5):\n",
    "    print(x)"
   ],
   "outputs": [
    {
     "name": "stdout",
     "output_type": "stream",
     "text": [
      "0\n",
      "1\n",
      "2\n",
      "3\n",
      "4\n"
     ]
    }
   ],
   "execution_count": 25
  },
  {
   "cell_type": "code",
   "id": "b009f56e",
   "metadata": {
    "pycharm": {
     "name": "#%%\n"
    },
    "ExecuteTime": {
     "end_time": "2025-02-11T15:39:10.807740Z",
     "start_time": "2025-02-11T15:39:10.805484Z"
    }
   },
   "source": [
    "for x in [\"a\", \"b\", \"c\"]:\n",
    "    print(x)"
   ],
   "outputs": [
    {
     "name": "stdout",
     "output_type": "stream",
     "text": [
      "a\n",
      "b\n",
      "c\n"
     ]
    }
   ],
   "execution_count": 26
  },
  {
   "cell_type": "code",
   "id": "d6e39754",
   "metadata": {
    "pycharm": {
     "name": "#%%\n"
    },
    "ExecuteTime": {
     "end_time": "2025-02-11T15:39:10.857275Z",
     "start_time": "2025-02-11T15:39:10.854500Z"
    }
   },
   "source": [
    "for i, x in enumerate([\"a\",\"b\",\"c\"]):\n",
    "    print(i, x)"
   ],
   "outputs": [
    {
     "name": "stdout",
     "output_type": "stream",
     "text": [
      "0 a\n",
      "1 b\n",
      "2 c\n"
     ]
    }
   ],
   "execution_count": 27
  },
  {
   "cell_type": "code",
   "id": "53db270b",
   "metadata": {
    "pycharm": {
     "name": "#%%\n"
    },
    "ExecuteTime": {
     "end_time": "2025-02-11T15:39:10.912143Z",
     "start_time": "2025-02-11T15:39:10.909847Z"
    }
   },
   "source": [
    "my_dict = dict(a=0, b=1, c=2)\n",
    "# OR my_dict = {\"a\":0, \"b\":1, \"c\":2}\n",
    "for v in my_dict:\n",
    "    print(v)"
   ],
   "outputs": [
    {
     "name": "stdout",
     "output_type": "stream",
     "text": [
      "a\n",
      "b\n",
      "c\n"
     ]
    }
   ],
   "execution_count": 28
  },
  {
   "cell_type": "code",
   "id": "e9f52ede",
   "metadata": {
    "pycharm": {
     "name": "#%%\n"
    },
    "ExecuteTime": {
     "end_time": "2025-02-11T15:39:10.961175Z",
     "start_time": "2025-02-11T15:39:10.958398Z"
    }
   },
   "source": [
    "for k, v in my_dict.items():\n",
    "    print(k, v)"
   ],
   "outputs": [
    {
     "name": "stdout",
     "output_type": "stream",
     "text": [
      "a 0\n",
      "b 1\n",
      "c 2\n"
     ]
    }
   ],
   "execution_count": 29
  },
  {
   "cell_type": "code",
   "id": "670126e0",
   "metadata": {
    "pycharm": {
     "name": "#%%\n"
    },
    "ExecuteTime": {
     "end_time": "2025-02-11T15:39:11.009586Z",
     "start_time": "2025-02-11T15:39:11.006970Z"
    }
   },
   "source": [
    "list_of_tuples = [(\"a\", 1, True), (\"b\", 2, False), (\"c\", 3, True)]\n",
    "for a, b, c in list_of_tuples:\n",
    "    print(a, b ** 2, not c)"
   ],
   "outputs": [
    {
     "name": "stdout",
     "output_type": "stream",
     "text": [
      "a 1 False\n",
      "b 4 True\n",
      "c 9 False\n"
     ]
    }
   ],
   "execution_count": 30
  },
  {
   "cell_type": "code",
   "id": "c406c3c7",
   "metadata": {
    "pycharm": {
     "name": "#%%\n"
    },
    "ExecuteTime": {
     "end_time": "2025-02-11T15:39:11.057683Z",
     "start_time": "2025-02-11T15:39:11.055Z"
    }
   },
   "source": [
    "my_list = [x ** 2 for x in range(5)]\n",
    "print(my_list)"
   ],
   "outputs": [
    {
     "name": "stdout",
     "output_type": "stream",
     "text": [
      "[0, 1, 4, 9, 16]\n"
     ]
    }
   ],
   "execution_count": 31
  },
  {
   "cell_type": "code",
   "id": "ed8f1952",
   "metadata": {
    "pycharm": {
     "name": "#%%\n"
    },
    "ExecuteTime": {
     "end_time": "2025-02-11T15:39:11.107589Z",
     "start_time": "2025-02-11T15:39:11.104842Z"
    }
   },
   "source": [
    "my_set = {x for x in range(5) if x > 2}\n",
    "print(my_set)"
   ],
   "outputs": [
    {
     "name": "stdout",
     "output_type": "stream",
     "text": [
      "{3, 4}\n"
     ]
    }
   ],
   "execution_count": 32
  },
  {
   "cell_type": "code",
   "id": "9578d142",
   "metadata": {
    "pycharm": {
     "name": "#%%\n"
    },
    "ExecuteTime": {
     "end_time": "2025-02-11T15:39:11.155981Z",
     "start_time": "2025-02-11T15:39:11.153446Z"
    }
   },
   "source": [
    "for i, j in zip([\"a\", \"b\", \"c\"], [1, 2, 3]):\n",
    "    print(i, j)"
   ],
   "outputs": [
    {
     "name": "stdout",
     "output_type": "stream",
     "text": [
      "a 1\n",
      "b 2\n",
      "c 3\n"
     ]
    }
   ],
   "execution_count": 33
  },
  {
   "cell_type": "code",
   "id": "c4f19a65",
   "metadata": {
    "pycharm": {
     "name": "#%%\n"
    },
    "ExecuteTime": {
     "end_time": "2025-02-11T15:39:11.205062Z",
     "start_time": "2025-02-11T15:39:11.202477Z"
    }
   },
   "source": [
    "zipped = [(\"a\",1), (\"b\",2), (\"c\",3)]\n",
    "print(*zipped)\n",
    "unzipped = list(zip(*zipped))\n",
    "print(unzipped)"
   ],
   "outputs": [
    {
     "name": "stdout",
     "output_type": "stream",
     "text": [
      "('a', 1) ('b', 2) ('c', 3)\n",
      "[('a', 'b', 'c'), (1, 2, 3)]\n"
     ]
    }
   ],
   "execution_count": 34
  },
  {
   "cell_type": "code",
   "id": "4c327fab",
   "metadata": {
    "pycharm": {
     "name": "#%%\n"
    },
    "ExecuteTime": {
     "end_time": "2025-02-11T15:39:11.253684Z",
     "start_time": "2025-02-11T15:39:11.251031Z"
    }
   },
   "source": [
    "for x in \"ař日й\":  # A string is a list of utf-8 chars\n",
    "    print(x)"
   ],
   "outputs": [
    {
     "name": "stdout",
     "output_type": "stream",
     "text": [
      "a\n",
      "ř\n",
      "日\n",
      "й\n"
     ]
    }
   ],
   "execution_count": 35
  },
  {
   "cell_type": "markdown",
   "id": "ccd1a21b",
   "metadata": {},
   "source": [
    "### Generators, itertools"
   ]
  },
  {
   "cell_type": "markdown",
   "id": "7ce10de4",
   "metadata": {},
   "source": [
    "**Generator** functions allow you to declare a function that behaves like an iterator, i.e. it can be used in a for loop. However they do not need to allocate all of the memory upfront -- they can be used in a similar way as lazy evaluation in Haskell."
   ]
  },
  {
   "cell_type": "code",
   "id": "a8f62a68",
   "metadata": {
    "pycharm": {
     "name": "#%%\n"
    },
    "ExecuteTime": {
     "end_time": "2025-02-11T15:39:11.302142Z",
     "start_time": "2025-02-11T15:39:11.299277Z"
    }
   },
   "source": [
    "def my_range(n):\n",
    "    i = 0\n",
    "    while i < n:\n",
    "        yield i\n",
    "        i += 1\n",
    "\n",
    "\n",
    "print(my_range(5))\n"
   ],
   "outputs": [
    {
     "name": "stdout",
     "output_type": "stream",
     "text": [
      "<generator object my_range at 0x72645b54b940>\n"
     ]
    }
   ],
   "execution_count": 36
  },
  {
   "cell_type": "code",
   "id": "2f8fe327",
   "metadata": {
    "pycharm": {
     "name": "#%%\n"
    },
    "ExecuteTime": {
     "end_time": "2025-02-11T15:39:11.350345Z",
     "start_time": "2025-02-11T15:39:11.348228Z"
    }
   },
   "source": [
    "for i in my_range(5):\n",
    "    print(i)"
   ],
   "outputs": [
    {
     "name": "stdout",
     "output_type": "stream",
     "text": [
      "0\n",
      "1\n",
      "2\n",
      "3\n",
      "4\n"
     ]
    }
   ],
   "execution_count": 37
  },
  {
   "cell_type": "code",
   "id": "e4511d6b",
   "metadata": {
    "ExecuteTime": {
     "end_time": "2025-02-11T15:39:11.399712Z",
     "start_time": "2025-02-11T15:39:11.397089Z"
    }
   },
   "source": [
    "print(list(my_range(5)))"
   ],
   "outputs": [
    {
     "name": "stdout",
     "output_type": "stream",
     "text": [
      "[0, 1, 2, 3, 4]\n"
     ]
    }
   ],
   "execution_count": 38
  },
  {
   "cell_type": "markdown",
   "id": "079bcab2",
   "metadata": {},
   "source": [
    "**Itertools** implement a number of iterator building blocks inspired by constructs from APL, Haskell, and SML. Each has been recast in a form suitable for Python.\n",
    "\n",
    "https://docs.python.org/3/library/itertools.html"
   ]
  },
  {
   "cell_type": "code",
   "id": "bfe15b7b",
   "metadata": {
    "ExecuteTime": {
     "end_time": "2025-02-11T15:39:11.445529Z",
     "start_time": "2025-02-11T15:39:11.443706Z"
    }
   },
   "source": [
    "import itertools"
   ],
   "outputs": [],
   "execution_count": 39
  },
  {
   "cell_type": "code",
   "id": "e3b583f7",
   "metadata": {
    "pycharm": {
     "is_executing": true,
     "name": "#%%\n"
    },
    "ExecuteTime": {
     "end_time": "2025-02-11T15:39:11.492711Z",
     "start_time": "2025-02-11T15:39:11.490560Z"
    }
   },
   "source": [
    "for i in itertools.chain(my_range(5), my_range(5)):\n",
    "    print(i)"
   ],
   "outputs": [
    {
     "name": "stdout",
     "output_type": "stream",
     "text": [
      "0\n",
      "1\n",
      "2\n",
      "3\n",
      "4\n",
      "0\n",
      "1\n",
      "2\n",
      "3\n",
      "4\n"
     ]
    }
   ],
   "execution_count": 40
  },
  {
   "cell_type": "code",
   "id": "5018274b",
   "metadata": {
    "pycharm": {
     "name": "#%%\n"
    },
    "ExecuteTime": {
     "end_time": "2025-02-11T15:39:11.540597Z",
     "start_time": "2025-02-11T15:39:11.538004Z"
    }
   },
   "source": [
    "vocabulary = [\"animal\", \"boy\", \"beard\", \"arm\", \"clock\", \"ceiling\", \"clean\", \"bribe\"]\n",
    "vocabulary = sorted(vocabulary)\n",
    "\n",
    "for key, group in itertools.groupby(vocabulary, lambda x: x[0]):\n",
    "    key_and_group = {key: list(group)}\n",
    "    print(key_and_group)"
   ],
   "outputs": [
    {
     "name": "stdout",
     "output_type": "stream",
     "text": [
      "{'a': ['animal', 'arm']}\n",
      "{'b': ['beard', 'boy', 'bribe']}\n",
      "{'c': ['ceiling', 'clean', 'clock']}\n"
     ]
    }
   ],
   "execution_count": 41
  },
  {
   "cell_type": "code",
   "id": "0fcb1887",
   "metadata": {
    "pycharm": {
     "name": "#%%\n"
    },
    "ExecuteTime": {
     "end_time": "2025-02-11T15:39:11.589618Z",
     "start_time": "2025-02-11T15:39:11.587406Z"
    }
   },
   "source": [
    "for x in itertools.combinations(\"ABCD\", 2):\n",
    "    print(x)"
   ],
   "outputs": [
    {
     "name": "stdout",
     "output_type": "stream",
     "text": [
      "('A', 'B')\n",
      "('A', 'C')\n",
      "('A', 'D')\n",
      "('B', 'C')\n",
      "('B', 'D')\n",
      "('C', 'D')\n"
     ]
    }
   ],
   "execution_count": 42
  },
  {
   "cell_type": "code",
   "id": "86ee5fc9",
   "metadata": {
    "pycharm": {
     "name": "#%%\n"
    },
    "ExecuteTime": {
     "end_time": "2025-02-11T15:39:11.637679Z",
     "start_time": "2025-02-11T15:39:11.635263Z"
    }
   },
   "source": [
    "for x in itertools.product(\"ABC\", \"XYZ\"):\n",
    "    print(x)"
   ],
   "outputs": [
    {
     "name": "stdout",
     "output_type": "stream",
     "text": [
      "('A', 'X')\n",
      "('A', 'Y')\n",
      "('A', 'Z')\n",
      "('B', 'X')\n",
      "('B', 'Y')\n",
      "('B', 'Z')\n",
      "('C', 'X')\n",
      "('C', 'Y')\n",
      "('C', 'Z')\n"
     ]
    }
   ],
   "execution_count": 43
  },
  {
   "cell_type": "code",
   "id": "a7d5bac7",
   "metadata": {
    "pycharm": {
     "name": "#%%\n"
    },
    "ExecuteTime": {
     "end_time": "2025-02-11T15:39:11.686347Z",
     "start_time": "2025-02-11T15:39:11.683604Z"
    }
   },
   "source": [
    "for p in itertools.permutations(\"123\"):\n",
    "    print(p)"
   ],
   "outputs": [
    {
     "name": "stdout",
     "output_type": "stream",
     "text": [
      "('1', '2', '3')\n",
      "('1', '3', '2')\n",
      "('2', '1', '3')\n",
      "('2', '3', '1')\n",
      "('3', '1', '2')\n",
      "('3', '2', '1')\n"
     ]
    }
   ],
   "execution_count": 44
  },
  {
   "cell_type": "markdown",
   "id": "4b08a448",
   "metadata": {
    "pycharm": {
     "name": "#%% md\n"
    }
   },
   "source": [
    "See more examples at https://docs.python.org/3/library/itertools.html\n",
    "\n",
    "Some other collections might be useful: https://docs.python.org/3/library/collections.html\n",
    "\n",
    "- OrderedDict: a dict subclass that remembers the order entries were added\n",
    "- namedtuple(): a factory function for creating tuple subclasses with named fields\n",
    "- defaultdict: a dict subclass that calls a factory function to supply missing values\n",
    "- Counter: a dict subclass for counting hashable objects\n",
    "- deque: a list-like container with fast appends and pops on either end"
   ]
  },
  {
   "cell_type": "markdown",
   "id": "ee31e5d8",
   "metadata": {
    "pycharm": {
     "name": "#%% md\n"
    }
   },
   "source": [
    "### Numpy\n",
    "\n",
    "NumPy is the fundamental package for scientific computing in Python. It is a Python library that provides a multidimensional array object, various derived objects (such as masked arrays and matrices), and an assortment of routines for fast operations on arrays, including mathematical, logical, shape manipulation, sorting, selecting, I/O, discrete Fourier transforms, basic linear algebra, basic statistical operations, random simulation and much more.\n",
    "\n",
    "Numpy resources (very much recommended to learn the API!):\n",
    "\n",
    "- cheatsheet: https://s3.amazonaws.com/assets.datacamp.com/blog_assets/Numpy_Python_Cheat_Sheet.pdf\n",
    "- documentation https://numpy.org/doc/1.22/user/whatisnumpy.html"
   ]
  },
  {
   "cell_type": "code",
   "id": "76b1ceb5",
   "metadata": {
    "pycharm": {
     "name": "#%%\n"
    },
    "ExecuteTime": {
     "end_time": "2025-02-11T15:47:17.005873Z",
     "start_time": "2025-02-11T15:47:16.931437Z"
    }
   },
   "source": [
    "import numpy as np\n",
    "\n",
    "x = np.array([\n",
    "    [1, 2, 3],\n",
    "    [4, 5, 6]\n",
    "])\n",
    "print(x)"
   ],
   "outputs": [
    {
     "name": "stdout",
     "output_type": "stream",
     "text": [
      "[[1 2 3]\n",
      " [4 5 6]]\n"
     ]
    }
   ],
   "execution_count": 2
  },
  {
   "cell_type": "code",
   "id": "f4bf7d98",
   "metadata": {
    "pycharm": {
     "name": "#%%\n"
    },
    "ExecuteTime": {
     "end_time": "2025-02-11T15:47:24.746804Z",
     "start_time": "2025-02-11T15:47:24.744238Z"
    }
   },
   "source": [
    "print(x.T)"
   ],
   "outputs": [
    {
     "name": "stdout",
     "output_type": "stream",
     "text": [
      "[[1 4]\n",
      " [2 5]\n",
      " [3 6]]\n"
     ]
    }
   ],
   "execution_count": 3
  },
  {
   "cell_type": "code",
   "id": "88b321ea",
   "metadata": {
    "pycharm": {
     "name": "#%%\n"
    },
    "ExecuteTime": {
     "end_time": "2025-02-11T15:47:25.676645Z",
     "start_time": "2025-02-11T15:47:25.674361Z"
    }
   },
   "source": [
    "print(x[1, :])"
   ],
   "outputs": [
    {
     "name": "stdout",
     "output_type": "stream",
     "text": [
      "[4 5 6]\n"
     ]
    }
   ],
   "execution_count": 4
  },
  {
   "cell_type": "code",
   "id": "72828ab8",
   "metadata": {
    "pycharm": {
     "name": "#%%\n"
    },
    "ExecuteTime": {
     "end_time": "2025-02-11T15:47:26.206910Z",
     "start_time": "2025-02-11T15:47:26.204611Z"
    }
   },
   "source": [
    "print(x[:, 2])"
   ],
   "outputs": [
    {
     "name": "stdout",
     "output_type": "stream",
     "text": [
      "[3 6]\n"
     ]
    }
   ],
   "execution_count": 5
  },
  {
   "cell_type": "code",
   "id": "2e8de52d",
   "metadata": {
    "pycharm": {
     "name": "#%%\n"
    },
    "ExecuteTime": {
     "end_time": "2025-02-11T15:47:26.718990Z",
     "start_time": "2025-02-11T15:47:26.716477Z"
    }
   },
   "source": [
    "print(x[1:, 1:2])"
   ],
   "outputs": [
    {
     "name": "stdout",
     "output_type": "stream",
     "text": [
      "[[5]]\n"
     ]
    }
   ],
   "execution_count": 6
  },
  {
   "cell_type": "code",
   "id": "4ef8f600",
   "metadata": {
    "pycharm": {
     "name": "#%%\n"
    },
    "ExecuteTime": {
     "end_time": "2025-02-11T15:47:27.194354Z",
     "start_time": "2025-02-11T15:47:27.191482Z"
    }
   },
   "source": [
    "print(x * 2)  # Broadcast!"
   ],
   "outputs": [
    {
     "name": "stdout",
     "output_type": "stream",
     "text": [
      "[[ 2  4  6]\n",
      " [ 8 10 12]]\n"
     ]
    }
   ],
   "execution_count": 7
  },
  {
   "cell_type": "code",
   "id": "ac634cb6",
   "metadata": {
    "pycharm": {
     "name": "#%%\n"
    },
    "ExecuteTime": {
     "end_time": "2025-02-11T15:47:27.598123Z",
     "start_time": "2025-02-11T15:47:27.595473Z"
    }
   },
   "source": [
    "y = np.array([\n",
    "    [1, 2],\n",
    "    [3, 4],\n",
    "    [5, 6]\n",
    "])"
   ],
   "outputs": [],
   "execution_count": 8
  },
  {
   "cell_type": "code",
   "id": "8cf0fd68",
   "metadata": {
    "pycharm": {
     "name": "#%%\n"
    },
    "ExecuteTime": {
     "end_time": "2025-02-11T15:47:28.052371Z",
     "start_time": "2025-02-11T15:47:28.049304Z"
    }
   },
   "source": [
    "print(x @ y)  # Matrix multiplication"
   ],
   "outputs": [
    {
     "name": "stdout",
     "output_type": "stream",
     "text": [
      "[[22 28]\n",
      " [49 64]]\n"
     ]
    }
   ],
   "execution_count": 9
  },
  {
   "cell_type": "code",
   "id": "0657e792",
   "metadata": {
    "pycharm": {
     "name": "#%%\n"
    },
    "ExecuteTime": {
     "end_time": "2025-02-11T15:47:28.785137Z",
     "start_time": "2025-02-11T15:47:28.782744Z"
    }
   },
   "source": [
    "print(x * y.T)   # Element-wise multiplication"
   ],
   "outputs": [
    {
     "name": "stdout",
     "output_type": "stream",
     "text": [
      "[[ 1  6 15]\n",
      " [ 8 20 36]]\n"
     ]
    }
   ],
   "execution_count": 10
  },
  {
   "cell_type": "code",
   "id": "1da2f4ad",
   "metadata": {
    "pycharm": {
     "name": "#%%\n"
    },
    "ExecuteTime": {
     "end_time": "2025-02-11T15:47:29.248446Z",
     "start_time": "2025-02-11T15:47:29.245636Z"
    }
   },
   "source": [
    "x = np.zeros((2,))  # Vector.\n",
    "print(x, x.shape)\n"
   ],
   "outputs": [
    {
     "name": "stdout",
     "output_type": "stream",
     "text": [
      "[0. 0.] (2,)\n"
     ]
    }
   ],
   "execution_count": 11
  },
  {
   "cell_type": "code",
   "id": "ed133b8d",
   "metadata": {
    "pycharm": {
     "name": "#%%\n"
    },
    "ExecuteTime": {
     "end_time": "2025-02-11T15:47:29.700533Z",
     "start_time": "2025-02-11T15:47:29.698078Z"
    }
   },
   "source": [
    "x = np.zeros((2,3))  # Matrix\n",
    "print(x, x.shape)"
   ],
   "outputs": [
    {
     "name": "stdout",
     "output_type": "stream",
     "text": [
      "[[0. 0. 0.]\n",
      " [0. 0. 0.]] (2, 3)\n"
     ]
    }
   ],
   "execution_count": 12
  },
  {
   "cell_type": "code",
   "id": "83cba48f",
   "metadata": {
    "pycharm": {
     "name": "#%%\n"
    },
    "ExecuteTime": {
     "end_time": "2025-02-11T15:47:30.119502Z",
     "start_time": "2025-02-11T15:47:30.116820Z"
    }
   },
   "source": [
    "x = np.zeros((2,3,3))  # Tensor\n",
    "print(x, x.shape)"
   ],
   "outputs": [
    {
     "name": "stdout",
     "output_type": "stream",
     "text": [
      "[[[0. 0. 0.]\n",
      "  [0. 0. 0.]\n",
      "  [0. 0. 0.]]\n",
      "\n",
      " [[0. 0. 0.]\n",
      "  [0. 0. 0.]\n",
      "  [0. 0. 0.]]] (2, 3, 3)\n"
     ]
    }
   ],
   "execution_count": 13
  },
  {
   "cell_type": "markdown",
   "id": "db75f0ff",
   "metadata": {
    "pycharm": {
     "name": "#%% md\n"
    }
   },
   "source": [
    "### Typing\n",
    "\n",
    "We use type annotations (Python>=3.5) extensively in these labs. They serve mostly as a comment - they are not strictly enforced by the Python interpreter, unlike what compilers of strongly typed languages such as C/C++ enforce.\n",
    "\n",
    "- https://docs.python.org/3/library/typing.html\n",
    "\n",
    "Basic types:\n",
    "- int\n",
    "- float\n",
    "- str\n",
    "\n",
    "Needs to be imported from `typing` package:\n",
    "\n",
    "- List[item_type]\n",
    "- Set[item_type]\n",
    "- Tuple[type_list]\n",
    "- Dict[key_type, value_type]\n",
    "- Iterable[item_type]\n",
    "- Union[type_list]\n",
    "- Callable[[input_types], output_type]\n",
    "\n",
    "Note that in newer versions of Python you can directly use lowercase list/dict/tuple/set types without special imports"
   ]
  },
  {
   "cell_type": "code",
   "id": "86369c39",
   "metadata": {
    "pycharm": {
     "name": "#%%\n"
    },
    "ExecuteTime": {
     "end_time": "2025-02-11T15:47:31.117501Z",
     "start_time": "2025-02-11T15:47:31.112993Z"
    }
   },
   "source": [
    "from typing import List\n",
    "\n",
    "def concat(xs: List[str]) -> str:\n",
    "    return \"\".join(xs)\n",
    "\n",
    "\n",
    "concat([\"a\", \"b\", \"c\"])"
   ],
   "outputs": [
    {
     "data": {
      "text/plain": [
       "'abc'"
      ]
     },
     "execution_count": 14,
     "metadata": {},
     "output_type": "execute_result"
    }
   ],
   "execution_count": 14
  },
  {
   "attachments": {},
   "cell_type": "markdown",
   "id": "3a9a3850",
   "metadata": {
    "pycharm": {
     "name": "#%% md\n"
    }
   },
   "source": [
    "### Overload of in class methods"
   ]
  },
  {
   "cell_type": "code",
   "id": "f45a7003",
   "metadata": {
    "pycharm": {
     "name": "#%%\n"
    },
    "ExecuteTime": {
     "end_time": "2025-02-11T15:47:32.149294Z",
     "start_time": "2025-02-11T15:47:32.144496Z"
    }
   },
   "source": [
    "class MyConfig:\n",
    "    def __init__(\n",
    "            self, \n",
    "            my_required_config: str, \n",
    "            defaulted_value: int = 10, \n",
    "            **kwargs: dict\n",
    "    ) -> None:\n",
    "        \"\"\"\n",
    "        This is a constructor.\n",
    "\n",
    "        **kwargs are all remaining unlisted keyword arguments.\n",
    "        \"\"\"\n",
    "        self.my_required_config = my_required_config\n",
    "        self.defaulted_value = defaulted_value\n",
    "        self.other_config = kwargs\n",
    "\n",
    "    def __str__(self) -> str:\n",
    "        \"\"\"\n",
    "        This function is called on str(obj)\n",
    "        \"\"\"\n",
    "        return self.my_required_config\n",
    "\n",
    "    def __hash__(self) -> int:\n",
    "        \"\"\"\n",
    "        This function is called when we need to hash the object\n",
    "        (in dictionaries or sets)\n",
    "        \"\"\"\n",
    "        return hash(self.my_required_config)\n",
    "\n",
    "    def __repr__(self) -> str:\n",
    "        \"\"\"\n",
    "        Magic function that is called for a human-friendly representation,\n",
    "        called in jupyter notebooks on the last object in the cell.\n",
    "        \"\"\"\n",
    "        listed_items = \"\\n\".join(\n",
    "            f\"{key}={value}\" for key, value in self.other_config.items()\n",
    "        )\n",
    "        return f\"{self.my_required_config} {self.defaulted_value}\\n###\\n{listed_items}\"\n",
    "\n",
    "\n",
    "obj = MyConfig(\"example\", epsilon=1e-6, gamma=1e-2)\n",
    "obj"
   ],
   "outputs": [
    {
     "data": {
      "text/plain": [
       "example 10\n",
       "###\n",
       "epsilon=1e-06\n",
       "gamma=0.01"
      ]
     },
     "execution_count": 15,
     "metadata": {},
     "output_type": "execute_result"
    }
   ],
   "execution_count": 15
  },
  {
   "attachments": {},
   "cell_type": "markdown",
   "id": "140e2931",
   "metadata": {},
   "source": [
    "### Better way to define a config data\n",
    "If you define a config, it is not cool to use `kwargs`. There should be no unexpected variables in a config."
   ]
  },
  {
   "cell_type": "code",
   "id": "086e4e23",
   "metadata": {
    "ExecuteTime": {
     "end_time": "2025-02-11T15:47:33.199557Z",
     "start_time": "2025-02-11T15:47:33.196037Z"
    }
   },
   "source": [
    "from dataclasses import dataclass\n",
    "\n",
    "@dataclass\n",
    "class MyConfig:\n",
    "    my_required_config: str\n",
    "    defaulted_value: int\n",
    "    gamma: float\n",
    "\n",
    "    def __str__(self) -> str:\n",
    "        \"\"\"\n",
    "        This function is called on str(obj)\n",
    "        \"\"\"\n",
    "        return self.my_required_config\n",
    "\n",
    "    def __hash__(self) -> int:\n",
    "        \"\"\"\n",
    "        This function is called when we need to hash the object\n",
    "        (in dictionaries or sets)\n",
    "        \"\"\"\n",
    "        return hash(self.my_required_config)\n",
    "\n",
    "\n",
    "obj = MyConfig(\"example\", 10, 1e-2)\n",
    "obj\n",
    "print(obj)"
   ],
   "outputs": [
    {
     "name": "stdout",
     "output_type": "stream",
     "text": [
      "example\n"
     ]
    }
   ],
   "execution_count": 16
  },
  {
   "cell_type": "markdown",
   "id": "7fe42707",
   "metadata": {
    "pycharm": {
     "name": "#%% md\n"
    }
   },
   "source": [
    "### Things to be careful about\n",
    "\n",
    "And more... It is useful to know about some Python \"gotchas\", so you are not so surprised by unexpected behavior.\n",
    "\n",
    "- https://www.geeksforgeeks.org/gotcha)s-in-python/\n",
    "- https://towardsdatascience.com/five-python-gotchas-3073145fe083\n",
    "- https://sopython.com/wiki/Common_Gotchas_In_Python\n",
    "- https://8thlight.com/blog/shibani-mookerjee/2019/05/07/some-common-gotchas-in-python.html\n",
    "- https://stackoverflow.com/questions/1011431/common-pitfalls-in-python"
   ]
  }
 ],
 "metadata": {
  "kernelspec": {
   "display_name": "Python 3",
   "language": "python",
   "name": "python3"
  },
  "language_info": {
   "codemirror_mode": {
    "name": "ipython",
    "version": 3
   },
   "file_extension": ".py",
   "mimetype": "text/x-python",
   "name": "python",
   "nbconvert_exporter": "python",
   "pygments_lexer": "ipython3",
   "version": "3.11.0"
  },
  "vscode": {
   "interpreter": {
    "hash": "a6e8327a44ce3fdbefade856382b427f3c3c2ddbc7ccee211728e939cc418eab"
   }
  }
 },
 "nbformat": 4,
 "nbformat_minor": 5
}
