{
 "cells": [
  {
   "cell_type": "markdown",
   "metadata": {
    "id": "pDN1_Rum_doo"
   },
   "source": [
    "# Lab 12: Probabilistic Reasoning"
   ]
  },
  {
   "cell_type": "markdown",
   "metadata": {
    "id": "e4w75nwd_kFY"
   },
   "source": [
    "## **Reminder:**\n",
    "\n",
    "Product rule:\n",
    "$$P(A,B) = P(A|B)P(B)$$\n",
    "\n",
    "Bayes' rule:\n",
    "$$P(A|B) = \\frac{P(B|A) P(A)}{P(B)}$$\n",
    "\n",
    "Inference by enumeration:\n",
    "\n",
    "Query variables $X$, evidence variables $E=e$, $Y$ all other variables.\n",
    "$$P(X|e) = \\frac{1}{P(e)} \\sum_{y\\in Y} P(X,e,y) $$\n",
    "\n",
    "Conditional independence:\n",
    "\n",
    "$A$  and $B$ are conditionally independent given $C$ iff any of the following are true:\n",
    "$$P(A|B,C) = P(A|C)$$\n",
    "$$P(B|A,C) = P(B|C)$$\n",
    "$$P(A,B|C) = P(A|C)P(B|C)$$\n",
    "\n",
    "",
    "",
    "",
    "",
    "",
    "",
    "",
    "",
    "",
    "",
    "",
    "",
    "",
    "",
    "",
    "",
    "",
    "",
    "",
    "\n",
    "Bayesian networks:\n",
    "Directed acyclic graph with\n",
    "- edges: dependencies, \"A-->B\" means \"A influences probability of B\", not necessarily \"A causes B\"\n",
    "- nodes: random variables with conditional probability distributions, conditional on parents"
   ]
  },
  {
   "cell_type": "markdown",
   "metadata": {
    "id": "jJs9ii2R_4AH"
   },
   "source": [
    "## **Excercise 1:**\n",
    "\n",
    "We have a bag of three biased coins a, b, and c with probabilities of coming up heads of 30%, 60%, and 75%, respectively. One coin is drawn randomly from the bag (with equal likelihood of drawing each of the three coins), and then the coin is flipped three times to generate the outcomes X1, X2, and X3.\n",
    "\n",
    "**Question:** What is $C, X1, X2, X3$ and their values? Which variables depend on which?\n",
    "\n",
    "",
    "",
    "",
    "",
    "",
    "\n",
    "**Question:** Is tossing a heads in the second round independent on tossing heads in the first one? Verify by computing $P(X1 = heads), P(X2 = heads), P(X3 = heads), P(X1 = heads, X2 = heads)$\n",
    "\n",
    "",
    "",
    "",
    "",
    "",
    "",
    "",
    "",
    "",
    "",
    "",
    "",
    "",
    "\n",
    "**Task:** Draw the full probability table for just two tosses (X1 and X2). Discuss how would the toss X3 change the table itself. Can you read the conditional dependence from the table?\n",
    "\n",
    "",
    "",
    "",
    "",
    ""
   ]
  },
  {
   "cell_type": "markdown",
   "metadata": {},
   "source": [
    "",
    "",
    "",
    "",
    "",
    "",
    ""
   ]
  },
  {
   "cell_type": "markdown",
   "metadata": {},
   "source": [
    "**Task:** Draw the Bayesian network corresponding to this setup and define the necessary conditional probability tables (CPTs)."
   ]
  },
  {
   "cell_type": "markdown",
   "metadata": {
    "id": "KKFYZDAuCl9g"
   },
   "source": [
    "",
    ""
   ]
  },
  {
   "cell_type": "markdown",
   "metadata": {
    "id": "1k5nG8yNClG8"
   },
   "source": [
    "\n",
    "**Task:** Calculate which coin was most likely to have been drawn from the bag if the observed flips come out heads twice and tails once.\n"
   ]
  },
  {
   "cell_type": "markdown",
   "metadata": {
    "id": "_ZScG-jKP5LG"
   },
   "source": [
    "",
    "",
    "",
    "",
    "",
    "",
    "",
    "",
    "",
    "",
    "",
    "",
    "",
    "",
    "",
    "",
    "",
    "",
    "",
    "",
    "",
    "",
    "",
    ""
   ]
  },
  {
   "cell_type": "markdown",
   "metadata": {
    "id": "QpDfs54pTRHG"
   },
   "source": [
    "## Hands-on"
   ]
  },
  {
   "cell_type": "code",
   "metadata": {
    "colab": {
     "background_save": true,
     "base_uri": "https://localhost:8080/"
    },
    "id": "PSViPuCncPly",
    "outputId": "22493f3d-a035-451c-cb51-3aab57fe08c9",
    "jupyter": {
     "is_executing": true
    },
    "ExecuteTime": {
     "start_time": "2025-05-13T10:45:19.567289Z"
    }
   },
   "source": [
    "!pip install pgmpy\n",
    "\n",
    "from pgmpy.models import DiscreteBayesianNetwork\n",
    "from pgmpy.inference import VariableElimination\n",
    "from pgmpy.factors.discrete import TabularCPD, DiscreteFactor"
   ],
   "outputs": [
    {
     "name": "stdout",
     "output_type": "stream",
     "text": [
      "Collecting pgmpy\r\n",
      "  Obtaining dependency information for pgmpy from https://files.pythonhosted.org/packages/0f/99/21be371103f6c690eb8653c1624bf1c015ab3a02f4f56da973c7b3c521b8/pgmpy-1.0.0-py3-none-any.whl.metadata\r\n",
      "  Downloading pgmpy-1.0.0-py3-none-any.whl.metadata (9.4 kB)\r\n",
      "Collecting networkx (from pgmpy)\r\n",
      "  Obtaining dependency information for networkx from https://files.pythonhosted.org/packages/b9/54/dd730b32ea14ea797530a4479b2ed46a6fb250f682a9cfb997e968bf0261/networkx-3.4.2-py3-none-any.whl.metadata\r\n",
      "  Downloading networkx-3.4.2-py3-none-any.whl.metadata (6.3 kB)\r\n",
      "Requirement already satisfied: numpy in /home/kolesiko/sem4/ZUI/.venv/lib/python3.12/site-packages (from pgmpy) (2.2.2)\r\n",
      "Requirement already satisfied: scipy in /home/kolesiko/sem4/ZUI/.venv/lib/python3.12/site-packages (from pgmpy) (1.15.2)\r\n",
      "Collecting scikit-learn (from pgmpy)\r\n",
      "  Obtaining dependency information for scikit-learn from https://files.pythonhosted.org/packages/29/7a/8bce8968883e9465de20be15542f4c7e221952441727c4dad24d534c6d99/scikit_learn-1.6.1-cp312-cp312-manylinux_2_17_x86_64.manylinux2014_x86_64.whl.metadata\r\n",
      "  Downloading scikit_learn-1.6.1-cp312-cp312-manylinux_2_17_x86_64.manylinux2014_x86_64.whl.metadata (18 kB)\r\n",
      "Collecting pandas (from pgmpy)\r\n",
      "  Obtaining dependency information for pandas from https://files.pythonhosted.org/packages/38/f8/d8fddee9ed0d0c0f4a2132c1dfcf0e3e53265055da8df952a53e7eaf178c/pandas-2.2.3-cp312-cp312-manylinux_2_17_x86_64.manylinux2014_x86_64.whl.metadata\r\n",
      "  Downloading pandas-2.2.3-cp312-cp312-manylinux_2_17_x86_64.manylinux2014_x86_64.whl.metadata (89 kB)\r\n",
      "\u001B[2K     \u001B[38;2;114;156;31m━━━━━━━━━━━━━━━━━━━━━━━━━━━━━━━━━━━━━━━━\u001B[0m \u001B[32m89.9/89.9 kB\u001B[0m \u001B[31m1.2 MB/s\u001B[0m eta \u001B[36m0:00:00\u001B[0m[31m3.5 MB/s\u001B[0m eta \u001B[36m0:00:01\u001B[0m\r\n",
      "\u001B[?25hCollecting torch (from pgmpy)\r\n",
      "  Obtaining dependency information for torch from https://files.pythonhosted.org/packages/9c/58/2d245b6f1ef61cf11dfc4aceeaacbb40fea706ccebac3f863890c720ab73/torch-2.7.0-cp312-cp312-manylinux_2_28_x86_64.whl.metadata\r\n",
      "  Downloading torch-2.7.0-cp312-cp312-manylinux_2_28_x86_64.whl.metadata (29 kB)\r\n",
      "Collecting statsmodels (from pgmpy)\r\n",
      "  Obtaining dependency information for statsmodels from https://files.pythonhosted.org/packages/fa/e1/60a652f18996a40a7410aeb7eb476c18da8a39792c7effe67f06883e9852/statsmodels-0.14.4-cp312-cp312-manylinux_2_17_x86_64.manylinux2014_x86_64.whl.metadata\r\n",
      "  Downloading statsmodels-0.14.4-cp312-cp312-manylinux_2_17_x86_64.manylinux2014_x86_64.whl.metadata (9.2 kB)\r\n",
      "Requirement already satisfied: tqdm in /home/kolesiko/sem4/ZUI/.venv/lib/python3.12/site-packages (from pgmpy) (4.67.1)\r\n",
      "Collecting joblib (from pgmpy)\r\n",
      "  Obtaining dependency information for joblib from https://files.pythonhosted.org/packages/da/d3/13ee227a148af1c693654932b8b0b02ed64af5e1f7406d56b088b57574cd/joblib-1.5.0-py3-none-any.whl.metadata\r\n",
      "  Downloading joblib-1.5.0-py3-none-any.whl.metadata (5.6 kB)\r\n",
      "Collecting opt-einsum (from pgmpy)\r\n",
      "  Obtaining dependency information for opt-einsum from https://files.pythonhosted.org/packages/23/cd/066e86230ae37ed0be70aae89aabf03ca8d9f39c8aea0dec8029455b5540/opt_einsum-3.4.0-py3-none-any.whl.metadata\r\n",
      "  Downloading opt_einsum-3.4.0-py3-none-any.whl.metadata (6.3 kB)\r\n",
      "Collecting pyro-ppl (from pgmpy)\r\n",
      "  Obtaining dependency information for pyro-ppl from https://files.pythonhosted.org/packages/ed/37/def183a2a2c8619d92649d62fe0622c4c6c62f60e4151e8fbaa409e7d5ab/pyro_ppl-1.9.1-py3-none-any.whl.metadata\r\n",
      "  Downloading pyro_ppl-1.9.1-py3-none-any.whl.metadata (7.8 kB)\r\n",
      "Requirement already satisfied: python-dateutil>=2.8.2 in /home/kolesiko/sem4/ZUI/.venv/lib/python3.12/site-packages (from pandas->pgmpy) (2.9.0.post0)\r\n",
      "Collecting pytz>=2020.1 (from pandas->pgmpy)\r\n",
      "  Obtaining dependency information for pytz>=2020.1 from https://files.pythonhosted.org/packages/81/c4/34e93fe5f5429d7570ec1fa436f1986fb1f00c3e0f43a589fe2bbcd22c3f/pytz-2025.2-py2.py3-none-any.whl.metadata\r\n",
      "  Downloading pytz-2025.2-py2.py3-none-any.whl.metadata (22 kB)\r\n",
      "Requirement already satisfied: tzdata>=2022.7 in /home/kolesiko/sem4/ZUI/.venv/lib/python3.12/site-packages (from pandas->pgmpy) (2025.2)\r\n",
      "Collecting pyro-api>=0.1.1 (from pyro-ppl->pgmpy)\r\n",
      "  Obtaining dependency information for pyro-api>=0.1.1 from https://files.pythonhosted.org/packages/fc/81/957ae78e6398460a7230b0eb9b8f1cb954c5e913e868e48d89324c68cec7/pyro_api-0.1.2-py3-none-any.whl.metadata\r\n",
      "  Downloading pyro_api-0.1.2-py3-none-any.whl.metadata (2.5 kB)\r\n",
      "Collecting filelock (from torch->pgmpy)\r\n",
      "  Obtaining dependency information for filelock from https://files.pythonhosted.org/packages/4d/36/2a115987e2d8c300a974597416d9de88f2444426de9571f4b59b2cca3acc/filelock-3.18.0-py3-none-any.whl.metadata\r\n",
      "  Downloading filelock-3.18.0-py3-none-any.whl.metadata (2.9 kB)\r\n",
      "Requirement already satisfied: typing-extensions>=4.10.0 in /home/kolesiko/sem4/ZUI/.venv/lib/python3.12/site-packages (from torch->pgmpy) (4.12.2)\r\n",
      "Requirement already satisfied: setuptools in /home/kolesiko/sem4/ZUI/.venv/lib/python3.12/site-packages (from torch->pgmpy) (75.8.0)\r\n",
      "Collecting sympy>=1.13.3 (from torch->pgmpy)\r\n",
      "  Obtaining dependency information for sympy>=1.13.3 from https://files.pythonhosted.org/packages/a2/09/77d55d46fd61b4a135c444fc97158ef34a095e5681d0a6c10b75bf356191/sympy-1.14.0-py3-none-any.whl.metadata\r\n",
      "  Downloading sympy-1.14.0-py3-none-any.whl.metadata (12 kB)\r\n",
      "Requirement already satisfied: jinja2 in /home/kolesiko/sem4/ZUI/.venv/lib/python3.12/site-packages (from torch->pgmpy) (3.1.5)\r\n",
      "Collecting fsspec (from torch->pgmpy)\r\n",
      "  Obtaining dependency information for fsspec from https://files.pythonhosted.org/packages/44/4b/e0cfc1a6f17e990f3e64b7d941ddc4acdc7b19d6edd51abf495f32b1a9e4/fsspec-2025.3.2-py3-none-any.whl.metadata\r\n",
      "  Downloading fsspec-2025.3.2-py3-none-any.whl.metadata (11 kB)\r\n",
      "Collecting nvidia-cuda-nvrtc-cu12==12.6.77 (from torch->pgmpy)\r\n",
      "  Obtaining dependency information for nvidia-cuda-nvrtc-cu12==12.6.77 from https://files.pythonhosted.org/packages/75/2e/46030320b5a80661e88039f59060d1790298b4718944a65a7f2aeda3d9e9/nvidia_cuda_nvrtc_cu12-12.6.77-py3-none-manylinux2014_x86_64.whl.metadata\r\n",
      "  Downloading nvidia_cuda_nvrtc_cu12-12.6.77-py3-none-manylinux2014_x86_64.whl.metadata (1.5 kB)\r\n",
      "Collecting nvidia-cuda-runtime-cu12==12.6.77 (from torch->pgmpy)\r\n",
      "  Obtaining dependency information for nvidia-cuda-runtime-cu12==12.6.77 from https://files.pythonhosted.org/packages/e1/23/e717c5ac26d26cf39a27fbc076240fad2e3b817e5889d671b67f4f9f49c5/nvidia_cuda_runtime_cu12-12.6.77-py3-none-manylinux2014_x86_64.manylinux_2_17_x86_64.whl.metadata\r\n",
      "  Downloading nvidia_cuda_runtime_cu12-12.6.77-py3-none-manylinux2014_x86_64.manylinux_2_17_x86_64.whl.metadata (1.5 kB)\r\n",
      "Collecting nvidia-cuda-cupti-cu12==12.6.80 (from torch->pgmpy)\r\n",
      "  Obtaining dependency information for nvidia-cuda-cupti-cu12==12.6.80 from https://files.pythonhosted.org/packages/49/60/7b6497946d74bcf1de852a21824d63baad12cd417db4195fc1bfe59db953/nvidia_cuda_cupti_cu12-12.6.80-py3-none-manylinux2014_x86_64.manylinux_2_17_x86_64.whl.metadata\r\n",
      "  Downloading nvidia_cuda_cupti_cu12-12.6.80-py3-none-manylinux2014_x86_64.manylinux_2_17_x86_64.whl.metadata (1.6 kB)\r\n",
      "Collecting nvidia-cudnn-cu12==9.5.1.17 (from torch->pgmpy)\r\n",
      "  Obtaining dependency information for nvidia-cudnn-cu12==9.5.1.17 from https://files.pythonhosted.org/packages/2a/78/4535c9c7f859a64781e43c969a3a7e84c54634e319a996d43ef32ce46f83/nvidia_cudnn_cu12-9.5.1.17-py3-none-manylinux_2_28_x86_64.whl.metadata\r\n",
      "  Downloading nvidia_cudnn_cu12-9.5.1.17-py3-none-manylinux_2_28_x86_64.whl.metadata (1.6 kB)\r\n",
      "Collecting nvidia-cublas-cu12==12.6.4.1 (from torch->pgmpy)\r\n",
      "  Obtaining dependency information for nvidia-cublas-cu12==12.6.4.1 from https://files.pythonhosted.org/packages/af/eb/ff4b8c503fa1f1796679dce648854d58751982426e4e4b37d6fce49d259c/nvidia_cublas_cu12-12.6.4.1-py3-none-manylinux2014_x86_64.manylinux_2_17_x86_64.whl.metadata\r\n",
      "  Downloading nvidia_cublas_cu12-12.6.4.1-py3-none-manylinux2014_x86_64.manylinux_2_17_x86_64.whl.metadata (1.5 kB)\r\n",
      "Collecting nvidia-cufft-cu12==11.3.0.4 (from torch->pgmpy)\r\n",
      "  Obtaining dependency information for nvidia-cufft-cu12==11.3.0.4 from https://files.pythonhosted.org/packages/8f/16/73727675941ab8e6ffd86ca3a4b7b47065edcca7a997920b831f8147c99d/nvidia_cufft_cu12-11.3.0.4-py3-none-manylinux2014_x86_64.manylinux_2_17_x86_64.whl.metadata\r\n",
      "  Downloading nvidia_cufft_cu12-11.3.0.4-py3-none-manylinux2014_x86_64.manylinux_2_17_x86_64.whl.metadata (1.5 kB)\r\n",
      "Collecting nvidia-curand-cu12==10.3.7.77 (from torch->pgmpy)\r\n",
      "  Obtaining dependency information for nvidia-curand-cu12==10.3.7.77 from https://files.pythonhosted.org/packages/73/1b/44a01c4e70933637c93e6e1a8063d1e998b50213a6b65ac5a9169c47e98e/nvidia_curand_cu12-10.3.7.77-py3-none-manylinux2014_x86_64.manylinux_2_17_x86_64.whl.metadata\r\n",
      "  Downloading nvidia_curand_cu12-10.3.7.77-py3-none-manylinux2014_x86_64.manylinux_2_17_x86_64.whl.metadata (1.5 kB)\r\n",
      "Collecting nvidia-cusolver-cu12==11.7.1.2 (from torch->pgmpy)\r\n",
      "  Obtaining dependency information for nvidia-cusolver-cu12==11.7.1.2 from https://files.pythonhosted.org/packages/f0/6e/c2cf12c9ff8b872e92b4a5740701e51ff17689c4d726fca91875b07f655d/nvidia_cusolver_cu12-11.7.1.2-py3-none-manylinux2014_x86_64.manylinux_2_17_x86_64.whl.metadata\r\n",
      "  Downloading nvidia_cusolver_cu12-11.7.1.2-py3-none-manylinux2014_x86_64.manylinux_2_17_x86_64.whl.metadata (1.6 kB)\r\n",
      "Collecting nvidia-cusparse-cu12==12.5.4.2 (from torch->pgmpy)\r\n",
      "  Obtaining dependency information for nvidia-cusparse-cu12==12.5.4.2 from https://files.pythonhosted.org/packages/06/1e/b8b7c2f4099a37b96af5c9bb158632ea9e5d9d27d7391d7eb8fc45236674/nvidia_cusparse_cu12-12.5.4.2-py3-none-manylinux2014_x86_64.manylinux_2_17_x86_64.whl.metadata\r\n",
      "  Downloading nvidia_cusparse_cu12-12.5.4.2-py3-none-manylinux2014_x86_64.manylinux_2_17_x86_64.whl.metadata (1.6 kB)\r\n",
      "Collecting nvidia-cusparselt-cu12==0.6.3 (from torch->pgmpy)\r\n",
      "  Obtaining dependency information for nvidia-cusparselt-cu12==0.6.3 from https://files.pythonhosted.org/packages/3b/9a/72ef35b399b0e183bc2e8f6f558036922d453c4d8237dab26c666a04244b/nvidia_cusparselt_cu12-0.6.3-py3-none-manylinux2014_x86_64.whl.metadata\r\n",
      "  Downloading nvidia_cusparselt_cu12-0.6.3-py3-none-manylinux2014_x86_64.whl.metadata (6.8 kB)\r\n",
      "Collecting nvidia-nccl-cu12==2.26.2 (from torch->pgmpy)\r\n",
      "  Obtaining dependency information for nvidia-nccl-cu12==2.26.2 from https://files.pythonhosted.org/packages/67/ca/f42388aed0fddd64ade7493dbba36e1f534d4e6fdbdd355c6a90030ae028/nvidia_nccl_cu12-2.26.2-py3-none-manylinux2014_x86_64.manylinux_2_17_x86_64.whl.metadata\r\n",
      "  Downloading nvidia_nccl_cu12-2.26.2-py3-none-manylinux2014_x86_64.manylinux_2_17_x86_64.whl.metadata (2.0 kB)\r\n",
      "Collecting nvidia-nvtx-cu12==12.6.77 (from torch->pgmpy)\r\n",
      "  Obtaining dependency information for nvidia-nvtx-cu12==12.6.77 from https://files.pythonhosted.org/packages/56/9a/fff8376f8e3d084cd1530e1ef7b879bb7d6d265620c95c1b322725c694f4/nvidia_nvtx_cu12-12.6.77-py3-none-manylinux2014_x86_64.manylinux_2_17_x86_64.whl.metadata\r\n",
      "  Downloading nvidia_nvtx_cu12-12.6.77-py3-none-manylinux2014_x86_64.manylinux_2_17_x86_64.whl.metadata (1.6 kB)\r\n",
      "Collecting nvidia-nvjitlink-cu12==12.6.85 (from torch->pgmpy)\r\n",
      "  Obtaining dependency information for nvidia-nvjitlink-cu12==12.6.85 from https://files.pythonhosted.org/packages/9d/d7/c5383e47c7e9bf1c99d5bd2a8c935af2b6d705ad831a7ec5c97db4d82f4f/nvidia_nvjitlink_cu12-12.6.85-py3-none-manylinux2010_x86_64.manylinux_2_12_x86_64.whl.metadata\r\n",
      "  Downloading nvidia_nvjitlink_cu12-12.6.85-py3-none-manylinux2010_x86_64.manylinux_2_12_x86_64.whl.metadata (1.5 kB)\r\n",
      "Collecting nvidia-cufile-cu12==1.11.1.6 (from torch->pgmpy)\r\n",
      "  Obtaining dependency information for nvidia-cufile-cu12==1.11.1.6 from https://files.pythonhosted.org/packages/b2/66/cc9876340ac68ae71b15c743ddb13f8b30d5244af344ec8322b449e35426/nvidia_cufile_cu12-1.11.1.6-py3-none-manylinux2014_x86_64.manylinux_2_17_x86_64.whl.metadata\r\n",
      "  Downloading nvidia_cufile_cu12-1.11.1.6-py3-none-manylinux2014_x86_64.manylinux_2_17_x86_64.whl.metadata (1.5 kB)\r\n",
      "Collecting triton==3.3.0 (from torch->pgmpy)\r\n",
      "  Obtaining dependency information for triton==3.3.0 from https://files.pythonhosted.org/packages/11/53/ce18470914ab6cfbec9384ee565d23c4d1c55f0548160b1c7b33000b11fd/triton-3.3.0-cp312-cp312-manylinux_2_27_x86_64.manylinux_2_28_x86_64.whl.metadata\r\n",
      "  Downloading triton-3.3.0-cp312-cp312-manylinux_2_27_x86_64.manylinux_2_28_x86_64.whl.metadata (1.5 kB)\r\n",
      "Collecting threadpoolctl>=3.1.0 (from scikit-learn->pgmpy)\r\n",
      "  Obtaining dependency information for threadpoolctl>=3.1.0 from https://files.pythonhosted.org/packages/32/d5/f9a850d79b0851d1d4ef6456097579a9005b31fea68726a4ae5f2d82ddd9/threadpoolctl-3.6.0-py3-none-any.whl.metadata\r\n",
      "  Downloading threadpoolctl-3.6.0-py3-none-any.whl.metadata (13 kB)\r\n",
      "Collecting patsy>=0.5.6 (from statsmodels->pgmpy)\r\n",
      "  Obtaining dependency information for patsy>=0.5.6 from https://files.pythonhosted.org/packages/87/2b/b50d3d08ea0fc419c183a84210571eba005328efa62b6b98bc28e9ead32a/patsy-1.0.1-py2.py3-none-any.whl.metadata\r\n",
      "  Downloading patsy-1.0.1-py2.py3-none-any.whl.metadata (3.3 kB)\r\n",
      "Requirement already satisfied: packaging>=21.3 in /home/kolesiko/sem4/ZUI/.venv/lib/python3.12/site-packages (from statsmodels->pgmpy) (24.2)\r\n",
      "Requirement already satisfied: six>=1.5 in /home/kolesiko/sem4/ZUI/.venv/lib/python3.12/site-packages (from python-dateutil>=2.8.2->pandas->pgmpy) (1.17.0)\r\n",
      "Collecting mpmath<1.4,>=1.1.0 (from sympy>=1.13.3->torch->pgmpy)\r\n",
      "  Obtaining dependency information for mpmath<1.4,>=1.1.0 from https://files.pythonhosted.org/packages/43/e3/7d92a15f894aa0c9c4b49b8ee9ac9850d6e63b03c9c32c0367a13ae62209/mpmath-1.3.0-py3-none-any.whl.metadata\r\n",
      "  Downloading mpmath-1.3.0-py3-none-any.whl.metadata (8.6 kB)\r\n",
      "Requirement already satisfied: MarkupSafe>=2.0 in /home/kolesiko/sem4/ZUI/.venv/lib/python3.12/site-packages (from jinja2->torch->pgmpy) (3.0.2)\r\n",
      "Downloading pgmpy-1.0.0-py3-none-any.whl (2.0 MB)\r\n",
      "\u001B[2K   \u001B[38;2;114;156;31m━━━━━━━━━━━━━━━━━━━━━━━━━━━━━━━━━━━━━━━━\u001B[0m \u001B[32m2.0/2.0 MB\u001B[0m \u001B[31m4.8 MB/s\u001B[0m eta \u001B[36m0:00:00\u001B[0m MB/s\u001B[0m eta \u001B[36m0:00:01\u001B[0m:01\u001B[0m\r\n",
      "\u001B[?25hDownloading joblib-1.5.0-py3-none-any.whl (307 kB)\r\n",
      "\u001B[2K   \u001B[38;2;114;156;31m━━━━━━━━━━━━━━━━━━━━━━━━━━━━━━━━━━━━━━━━\u001B[0m \u001B[32m307.7/307.7 kB\u001B[0m \u001B[31m5.7 MB/s\u001B[0m eta \u001B[36m0:00:00\u001B[0m[31m6.9 MB/s\u001B[0m eta \u001B[36m0:00:01\u001B[0m\r\n",
      "\u001B[?25hDownloading networkx-3.4.2-py3-none-any.whl (1.7 MB)\r\n",
      "\u001B[2K   \u001B[38;2;114;156;31m━━━━━━━━━━━━━━━━━━━━━━━━━━━━━━━━━━━━━━━━\u001B[0m \u001B[32m1.7/1.7 MB\u001B[0m \u001B[31m7.8 MB/s\u001B[0m eta \u001B[36m0:00:00\u001B[0mm eta \u001B[36m0:00:01\u001B[0m[36m0:00:01\u001B[0m\r\n",
      "\u001B[?25hDownloading opt_einsum-3.4.0-py3-none-any.whl (71 kB)\r\n",
      "\u001B[2K   \u001B[38;2;114;156;31m━━━━━━━━━━━━━━━━━━━━━━━━━━━━━━━━━━━━━━━━\u001B[0m \u001B[32m71.9/71.9 kB\u001B[0m \u001B[31m11.3 MB/s\u001B[0m eta \u001B[36m0:00:00\u001B[0m\r\n",
      "\u001B[?25hDownloading pandas-2.2.3-cp312-cp312-manylinux_2_17_x86_64.manylinux2014_x86_64.whl (12.7 MB)\r\n",
      "\u001B[2K   \u001B[38;2;114;156;31m━━━━━━━━━━━━━━━━━━━━━━━━━━━━━━━━━━━━━━━━\u001B[0m \u001B[32m12.7/12.7 MB\u001B[0m \u001B[31m1.2 MB/s\u001B[0m eta \u001B[36m0:00:00\u001B[0mm eta \u001B[36m0:00:01\u001B[0m[36m0:00:01\u001B[0m\r\n",
      "\u001B[?25hDownloading pyro_ppl-1.9.1-py3-none-any.whl (755 kB)\r\n",
      "\u001B[2K   \u001B[38;2;114;156;31m━━━━━━━━━━━━━━━━━━━━━━━━━━━━━━━━━━━━━━━━\u001B[0m \u001B[32m756.0/756.0 kB\u001B[0m \u001B[31m1.3 MB/s\u001B[0m eta \u001B[36m0:00:00\u001B[0m[31m1.5 MB/s\u001B[0m eta \u001B[36m0:00:01\u001B[0m\r\n",
      "\u001B[?25hDownloading torch-2.7.0-cp312-cp312-manylinux_2_28_x86_64.whl (865.0 MB)\r\n",
      "\u001B[2K   \u001B[38;2;249;38;114m━━━━\u001B[0m\u001B[38;2;249;38;114m╸\u001B[0m\u001B[38;5;237m━━━━━━━━━━━━━━━━━━━━━━━━━━━━━━━━━━━\u001B[0m \u001B[32m103.3/865.0 MB\u001B[0m \u001B[31m1.2 MB/s\u001B[0m eta \u001B[36m0:10:27\u001B[0m"
     ]
    }
   ],
   "execution_count": null
  },
  {
   "cell_type": "markdown",
   "metadata": {
    "id": "tqb7uB7XlN5i"
   },
   "source": [
    "Let's try to model the three coin problem."
   ]
  },
  {
   "cell_type": "code",
   "execution_count": null,
   "metadata": {},
   "outputs": [],
   "source": [
    "# Type aliases\n",
    "\n",
    "Var = str\n",
    "Prob = float"
   ]
  },
  {
   "cell_type": "code",
   "execution_count": null,
   "metadata": {},
   "outputs": [],
   "source": [
    "class Model():\n",
    "    def __init__(self, network: DiscreteBayesianNetwork, cpds: list[TabularCPD]):\n",
    "        self.network = network\n",
    "        self.network.add_cpds(*cpds)\n",
    "        self.inference = VariableElimination(self.network)\n",
    "\n",
    "    def infer(self, variables: list[Var], evidence: dict[Var, int] = {}, *args, **kwargs) -> DiscreteFactor:\n",
    "        assert all([variable in self.network.nodes for variable in set(variables + list(evidence.keys()))])\n",
    "\n",
    "        return self.inference.query(variables=variables, evidence=evidence, *args, **kwargs)\n",
    "\n",
    "    def __str__(self):\n",
    "        return ', '.join(self.network.nodes)\n",
    "\n",
    "    def __repr__(self):\n",
    "        return str(self)"
   ]
  },
  {
   "cell_type": "code",
   "execution_count": null,
   "metadata": {},
   "outputs": [],
   "source": [
    "class CoinModel(Model):\n",
    "    def __init__(self):\n",
    "        cpds = self.prepare_cpds()\n",
    "        network = self.prepare_network()\n",
    "\n",
    "        super().__init__(network, cpds)\n",
    "\n",
    "    def prepare_cpds(self) -> list[TabularCPD]:\n",
    "        # Probability of drawing given coin is equal for all of the coins.\n",
    "        cpd_c = TabularCPD('C', 3, [[1/3], [1/3], [1/3]])\n",
    "\n",
    "        # A CPD for each coin given its probabilities of heads and tails.\n",
    "        cpd_x1 = TabularCPD('X1', 2, [[0.3, 0.6, 0.75], [0.7, 0.4, 0.25]], evidence=['C'], evidence_card=[3])\n",
    "        cpd_x2 = TabularCPD('X2', 2, [[0.3, 0.6, 0.75], [0.7, 0.4, 0.25]], evidence=['C'], evidence_card=[3])\n",
    "        cpd_x3 = TabularCPD('X3', 2, [[0.3, 0.6, 0.75], [0.7, 0.4, 0.25]], evidence=['C'], evidence_card=[3])\n",
    "\n",
    "        return [cpd_c, cpd_x1, cpd_x2, cpd_x3]\n",
    "\n",
    "    def prepare_network(self) -> DiscreteBayesianNetwork:\n",
    "        network = DiscreteBayesianNetwork([\n",
    "            ('C', 'X1'),\n",
    "            ('C', 'X2'),\n",
    "            ('C', 'X3')\n",
    "        ])\n",
    "\n",
    "        return network"
   ]
  },
  {
   "cell_type": "code",
   "execution_count": null,
   "metadata": {},
   "outputs": [],
   "source": [
    "coin_model = CoinModel()"
   ]
  },
  {
   "cell_type": "markdown",
   "metadata": {
    "id": "RvXr9wgWlowz"
   },
   "source": [
    "Now, let's try to answer the same questions. What's $P(X1=heads)$? Heads are represented as X1(0):"
   ]
  },
  {
   "cell_type": "code",
   "execution_count": null,
   "metadata": {
    "colab": {
     "background_save": true,
     "base_uri": "https://localhost:8080/"
    },
    "id": "KtRdvavOlwRV",
    "outputId": "88bafdba-3b2a-4a9c-843a-01c04462d701"
   },
   "outputs": [],
   "source": [
    "print(coin_model.infer(variables=['X1']))"
   ]
  },
  {
   "cell_type": "markdown",
   "metadata": {
    "id": "QapEYsqHmBc8"
   },
   "source": [
    "And for the second question - which coin was most likely to have been drawn? We already know that the order of heads and tails does not matter, hence:"
   ]
  },
  {
   "cell_type": "code",
   "execution_count": null,
   "metadata": {
    "colab": {
     "background_save": true,
     "base_uri": "https://localhost:8080/"
    },
    "id": "_cM1H7WXfN8z",
    "outputId": "07b0b754-ab3a-4a75-82b5-3dbc27792d04"
   },
   "outputs": [],
   "source": [
    "print(coin_model.infer(variables=['C'], evidence={'X1': 0, 'X2': 0, 'X3': 1}))"
   ]
  },
  {
   "cell_type": "markdown",
   "metadata": {
    "id": "HR1AutRTmhRM"
   },
   "source": [
    "Again, it's coin $b$. **Question:** The computed probabilities are different to what we computed earlier, why?\n",
    "\n",
    "",
    "",
    "",
    "",
    ""
   ]
  },
  {
   "cell_type": "markdown",
   "metadata": {},
   "source": [
    "## Bayesian networks independence rules\n",
    "\n",
    "Bayesian networks encodes conditional independence relations between nodes: \n",
    "\n",
    "1. Each node is conditionally independent of its non-descendants, given its parents.\n",
    "\n",
    "2. Directional separation:\n",
    "![bayes_rules.png](data:image/png;base64,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)"
   ]
  },
  {
   "cell_type": "markdown",
   "metadata": {},
   "source": [
    "Both left and middle: X and Z does not have to be independent. But X and Z are independent given Y\n",
    "\n",
    "Right: X and Z are independent. But X and Z given given Y are dependent.\n",
    "\n",
    "**Question: ** Can you find a example for each of these?\n",
    "\n",
    "",
    "",
    "",
    "",
    "",
    "",
    "",
    "",
    ""
   ]
  },
  {
   "cell_type": "markdown",
   "metadata": {
    "id": "EqgxaOrWnrKq"
   },
   "source": [
    "## Politics inference"
   ]
  },
  {
   "cell_type": "markdown",
   "metadata": {
    "id": "LC5iVJhioH8-"
   },
   "source": [
    "Let's have a different Bayes net with Boolean variables B = {BrokeElectionLaw}, I = {Indicted}, M = {PoliticallyMotivatedProsecutor}, G= {FoundGuilty}, J = {Jailed}."
   ]
  },
  {
   "cell_type": "markdown",
   "metadata": {
    "id": "_2E9vSBaonlO"
   },
   "source": [
    "![politics.png](data:image/png;base64,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)"
   ]
  },
  {
   "cell_type": "markdown",
   "metadata": {
    "id": "WPlJ7XNioQIv"
   },
   "source": [
    "**Task:** Which of the following are asserted by the network structure?\n",
    "1. $P(B,I,M)=P(B)P(I)P(M)$ \n",
    "",
    "",
    "",
    "\n",
    "2. $P(J|G)=P(J|G,I)$\n",
    "",
    "",
    "",
    "\n",
    "3. $P(M|G,B,I)=P(M|G,B,I,J)$\n",
    "",
    "",
    "",
    "\n",
    "**Task:** Compute the probability that someone broke the law, was indicted, not faced a politicaly motivated prosecutor, was found guilty and went to jail.\n",
    "\n",
    "",
    "",
    "",
    "",
    "",
    "",
    "",
    "\n",
    "**Task:** Compute the probability that someone went to jail. (Formula is enough here)\n",
    "\n",
    "",
    "",
    "",
    "",
    "",
    "",
    "",
    "\n",
    "**Task:** Compute the probability that someone did not break law and did not face politically motivated prosecutor yet was found guilty. (You don't need to calculate the normalization constant)\n",
    "\n",
    "",
    "",
    "",
    "",
    "",
    "",
    "",
    "",
    "",
    "",
    "",
    "",
    "",
    "",
    "",
    "",
    "",
    ""
   ]
  },
  {
   "cell_type": "markdown",
   "metadata": {
    "id": "L4LRr48JtGJr"
   },
   "source": [
    "**Task:** Implement the above network using pgmpy."
   ]
  },
  {
   "cell_type": "code",
   "execution_count": null,
   "metadata": {},
   "outputs": [],
   "source": [
    "class PoliticsModel(Model):\n",
    "    def __init__(self):\n",
    "        cpds = self.prepare_cpds()\n",
    "        network = self.prepare_network()\n",
    "\n",
    "        super().__init__(network, cpds)\n",
    "\n",
    "    def prepare_cpds(self) -> list[TabularCPD]:\n",
    "        b_p = [[0.1], [0.9]]\n",
    "        i_p = [[0.9, 0.5, 0.5, 0.1], [0.1, 0.5, 0.5, 0.9]]\n",
    "        m_p = [[0.9], [0.1]]\n",
    "        g_p = [[1. , 1. , 0.9, 0.8, 1. , 1. , 0.2, 0.1], [0., 0., 0.1, 0.2, 0., 0., 0.8, 0.9]]\n",
    "        j_p = [[1.0, 0.1], [0., 0.9]]\n",
    "        \n",
    "        cpd_b = TabularCPD('B', 2, b_p)\n",
    "        cpd_i = TabularCPD('I', 2, i_p, evidence=['B', 'M'], evidence_card=[2, 2])\n",
    "        cpd_m = TabularCPD('M', 2, m_p)\n",
    "        cpd_g = TabularCPD('G', 2, g_p, evidence=['B', 'I', 'M'], evidence_card=[2, 2, 2])\n",
    "        cpd_j = TabularCPD('J', 2, j_p, evidence=['G'], evidence_card=[2])\n",
    "        \n",
    "        return [cpd_b, cpd_i, cpd_m, cpd_g, cpd_j]\n",
    "\n",
    "    def prepare_network(self) -> DiscreteBayesianNetwork:\n",
    "        network = DiscreteBayesianNetwork([('B', 'I'),\n",
    "                                   ('M', 'I'),\n",
    "                                   ('B', 'G'),\n",
    "                                   ('I', 'G'),\n",
    "                                   ('M', 'G'),\n",
    "                                   ('G', 'J')])\n",
    "        return network"
   ]
  },
  {
   "cell_type": "markdown",
   "metadata": {
    "id": "EmCBFzKKv_U_"
   },
   "source": [
    "Let's make sure it's ok..."
   ]
  },
  {
   "cell_type": "code",
   "execution_count": null,
   "metadata": {},
   "outputs": [],
   "source": [
    "politics_model = PoliticsModel()"
   ]
  },
  {
   "cell_type": "code",
   "execution_count": null,
   "metadata": {},
   "outputs": [],
   "source": [
    "for cpd in politics_model.network.get_cpds():\n",
    "    print(cpd)"
   ]
  },
  {
   "cell_type": "markdown",
   "metadata": {
    "id": "DUpPRxZrwgDR"
   },
   "source": [
    "Awesome. Now let's answer the same question as above. What's the probability that someone broke the law, was indicted, not faced a politicaly motivated prosecutor, was found guilty and went to jail?"
   ]
  },
  {
   "cell_type": "code",
   "execution_count": null,
   "metadata": {},
   "outputs": [],
   "source": [
    "print(politics_model.infer(variables=['J', 'B', 'I', 'M', 'G']))"
   ]
  },
  {
   "cell_type": "code",
   "execution_count": null,
   "metadata": {},
   "outputs": [],
   "source": [
    "# Print only the row in question\n",
    "\n",
    "print(politics_model.infer(variables=['J', 'B', 'I', 'M', 'G']).get_value(J=1, B=1, I=1, M=0, G=1))"
   ]
  },
  {
   "cell_type": "markdown",
   "metadata": {},
   "source": [
    "Let's compute the examples"
   ]
  },
  {
   "cell_type": "code",
   "execution_count": null,
   "metadata": {},
   "outputs": [],
   "source": [
    "print(politics_model.infer(variables=['J']).get_value(J=1))"
   ]
  },
  {
   "cell_type": "code",
   "execution_count": null,
   "metadata": {},
   "outputs": [],
   "source": [
    "print(politics_model.infer(variables=['B', 'M'], evidence={'G':1}).get_value(B=0, M=0))"
   ]
  },
  {
   "cell_type": "markdown",
   "metadata": {
    "id": "QPqV944v0NKa"
   },
   "source": [
    "Let's do some other inferences now. Compute the probability that someone is innocent and went to jail."
   ]
  },
  {
   "cell_type": "code",
   "execution_count": null,
   "metadata": {},
   "outputs": [],
   "source": [
    "print(politics_model.infer(variables=['B'], evidence={'J': 1}))"
   ]
  },
  {
   "cell_type": "markdown",
   "metadata": {
    "id": "BfVJZ3AK0nhy"
   },
   "source": [
    "Now compute the probability that someone is innocent, went to jail and faced politically motivated prosecutor."
   ]
  },
  {
   "cell_type": "code",
   "execution_count": null,
   "metadata": {
    "colab": {
     "background_save": true,
     "base_uri": "https://localhost:8080/"
    },
    "id": "NC7tKR_i0xQh",
    "outputId": "ce5a5c85-498d-422f-9656-ecf9d7985016"
   },
   "outputs": [],
   "source": [
    "print(politics_model.infer(variables=['B'], evidence={'J': 1, 'M': 1}))"
   ]
  }
 ],
 "metadata": {
  "colab": {
   "collapsed_sections": [],
   "name": "ZUI Lab12 Teacher's.ipynb",
   "provenance": []
  },
  "interpreter": {
   "hash": "2ccf3f49e6ab2ea960251089b872757a12e08da56973b45f875e67756ce2cbc2"
  },
  "kernelspec": {
   "display_name": "Python 3 (ipykernel)",
   "language": "python",
   "name": "python3"
  },
  "language_info": {
   "codemirror_mode": {
    "name": "ipython",
    "version": 3
   },
   "file_extension": ".py",
   "mimetype": "text/x-python",
   "name": "python",
   "nbconvert_exporter": "python",
   "pygments_lexer": "ipython3",
   "version": "3.10.6"
  }
 },
 "nbformat": 4,
 "nbformat_minor": 1
}
